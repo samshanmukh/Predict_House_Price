{
  "nbformat": 4,
  "nbformat_minor": 0,
  "metadata": {
    "colab": {
      "name": "Predict-house-prices",
      "version": "0.3.2",
      "provenance": [],
      "collapsed_sections": [],
      "include_colab_link": true
    },
    "kernelspec": {
      "name": "python3",
      "display_name": "Python 3"
    }
  },
  "cells": [
    {
      "cell_type": "markdown",
      "metadata": {
        "id": "view-in-github",
        "colab_type": "text"
      },
      "source": [
        "<a href=\"https://colab.research.google.com/github/samshanmukh/Predict_House_Price/blob/master/Predict_house_prices.ipynb\" target=\"_parent\"><img src=\"https://colab.research.google.com/assets/colab-badge.svg\" alt=\"Open In Colab\"/></a>"
      ]
    },
    {
      "metadata": {
        "id": "dQFgXjbAeYJP",
        "colab_type": "text"
      },
      "cell_type": "markdown",
      "source": [
        "# Importing libraries"
      ]
    },
    {
      "metadata": {
        "id": "4kQmkQV1ek5Q",
        "colab_type": "code",
        "outputId": "eacb4214-29f7-4ae1-f05e-bbf9f6b09f9c",
        "colab": {
          "base_uri": "https://localhost:8080/",
          "height": 52
        }
      },
      "cell_type": "code",
      "source": [
        "%%time\n",
        "import re\n",
        "import pickle\n",
        "import numpy as np\n",
        "import pandas as pd\n",
        "\n",
        "import sklearn\n",
        "from sklearn.svm import SVR\n",
        "from sklearn.linear_model import LinearRegression\n",
        "from sklearn.linear_model import Ridge\n",
        "from sklearn.linear_model import Lasso\n",
        "from sklearn.linear_model import ElasticNet\n",
        "from sklearn.linear_model import SGDRegressor\n",
        "from sklearn.tree import DecisionTreeRegressor\n",
        "from sklearn.ensemble import RandomForestRegressor\n",
        "from sklearn.metrics import accuracy_score\n",
        "from sklearn.metrics import f1_score\n",
        "from sklearn.metrics import mean_absolute_error\n",
        "from sklearn import metrics\n",
        "from sklearn.model_selection import train_test_split\n",
        "from sklearn.preprocessing import LabelEncoder\n",
        "\n",
        "import xgboost as xgb\n",
        "import lightgbm\n",
        "\n",
        "import matplotlib.pyplot as plt\n",
        "import seaborn as sns\n",
        "\n",
        "import warnings\n",
        "warnings.filterwarnings('ignore')"
      ],
      "execution_count": 0,
      "outputs": [
        {
          "output_type": "stream",
          "text": [
            "CPU times: user 473 ms, sys: 94 ms, total: 567 ms\n",
            "Wall time: 1.07 s\n"
          ],
          "name": "stdout"
        }
      ]
    },
    {
      "metadata": {
        "id": "6Hia-MqMelwz",
        "colab_type": "code",
        "colab": {}
      },
      "cell_type": "code",
      "source": [
        ""
      ],
      "execution_count": 0,
      "outputs": []
    },
    {
      "metadata": {
        "id": "VY_p51uKer6j",
        "colab_type": "text"
      },
      "cell_type": "markdown",
      "source": [
        "# Getting datasets"
      ]
    },
    {
      "metadata": {
        "id": "6eBF0_Asmmbl",
        "colab_type": "code",
        "colab": {}
      },
      "cell_type": "code",
      "source": [
        "train_data = pd.read_csv('https://raw.githubusercontent.com/samshanmukh/Predict-house-prices-in-Bangalore/master/Dataset/train.csv')\n",
        "test_data = pd.read_csv('https://raw.githubusercontent.com/samshanmukh/Predict-house-prices-in-Bangalore/master/Dataset/test.csv')"
      ],
      "execution_count": 0,
      "outputs": []
    },
    {
      "metadata": {
        "id": "Xp5SAY1InJ8a",
        "colab_type": "code",
        "outputId": "848e4dab-7b98-4583-83ec-02503237e0a2",
        "colab": {
          "base_uri": "https://localhost:8080/",
          "height": 206
        }
      },
      "cell_type": "code",
      "source": [
        "train_data.head()\n",
        "# train_data.shape"
      ],
      "execution_count": 0,
      "outputs": [
        {
          "output_type": "execute_result",
          "data": {
            "text/html": [
              "<div>\n",
              "<style scoped>\n",
              "    .dataframe tbody tr th:only-of-type {\n",
              "        vertical-align: middle;\n",
              "    }\n",
              "\n",
              "    .dataframe tbody tr th {\n",
              "        vertical-align: top;\n",
              "    }\n",
              "\n",
              "    .dataframe thead th {\n",
              "        text-align: right;\n",
              "    }\n",
              "</style>\n",
              "<table border=\"1\" class=\"dataframe\">\n",
              "  <thead>\n",
              "    <tr style=\"text-align: right;\">\n",
              "      <th></th>\n",
              "      <th>area_type</th>\n",
              "      <th>availability</th>\n",
              "      <th>location</th>\n",
              "      <th>size</th>\n",
              "      <th>society</th>\n",
              "      <th>total_sqft</th>\n",
              "      <th>bath</th>\n",
              "      <th>balcony</th>\n",
              "      <th>price</th>\n",
              "    </tr>\n",
              "  </thead>\n",
              "  <tbody>\n",
              "    <tr>\n",
              "      <th>0</th>\n",
              "      <td>Super built-up  Area</td>\n",
              "      <td>19-Dec</td>\n",
              "      <td>Electronic City Phase II</td>\n",
              "      <td>2 BHK</td>\n",
              "      <td>Coomee</td>\n",
              "      <td>1056</td>\n",
              "      <td>2.0</td>\n",
              "      <td>1.0</td>\n",
              "      <td>39.07</td>\n",
              "    </tr>\n",
              "    <tr>\n",
              "      <th>1</th>\n",
              "      <td>Plot  Area</td>\n",
              "      <td>Ready To Move</td>\n",
              "      <td>Chikka Tirupathi</td>\n",
              "      <td>4 Bedroom</td>\n",
              "      <td>Theanmp</td>\n",
              "      <td>2600</td>\n",
              "      <td>5.0</td>\n",
              "      <td>3.0</td>\n",
              "      <td>120.00</td>\n",
              "    </tr>\n",
              "    <tr>\n",
              "      <th>2</th>\n",
              "      <td>Built-up  Area</td>\n",
              "      <td>Ready To Move</td>\n",
              "      <td>Uttarahalli</td>\n",
              "      <td>3 BHK</td>\n",
              "      <td>NaN</td>\n",
              "      <td>1440</td>\n",
              "      <td>2.0</td>\n",
              "      <td>3.0</td>\n",
              "      <td>62.00</td>\n",
              "    </tr>\n",
              "    <tr>\n",
              "      <th>3</th>\n",
              "      <td>Super built-up  Area</td>\n",
              "      <td>Ready To Move</td>\n",
              "      <td>Lingadheeranahalli</td>\n",
              "      <td>3 BHK</td>\n",
              "      <td>Soiewre</td>\n",
              "      <td>1521</td>\n",
              "      <td>3.0</td>\n",
              "      <td>1.0</td>\n",
              "      <td>95.00</td>\n",
              "    </tr>\n",
              "    <tr>\n",
              "      <th>4</th>\n",
              "      <td>Super built-up  Area</td>\n",
              "      <td>Ready To Move</td>\n",
              "      <td>Kothanur</td>\n",
              "      <td>2 BHK</td>\n",
              "      <td>NaN</td>\n",
              "      <td>1200</td>\n",
              "      <td>2.0</td>\n",
              "      <td>1.0</td>\n",
              "      <td>51.00</td>\n",
              "    </tr>\n",
              "  </tbody>\n",
              "</table>\n",
              "</div>"
            ],
            "text/plain": [
              "              area_type   availability                  location       size  \\\n",
              "0  Super built-up  Area         19-Dec  Electronic City Phase II      2 BHK   \n",
              "1            Plot  Area  Ready To Move          Chikka Tirupathi  4 Bedroom   \n",
              "2        Built-up  Area  Ready To Move               Uttarahalli      3 BHK   \n",
              "3  Super built-up  Area  Ready To Move        Lingadheeranahalli      3 BHK   \n",
              "4  Super built-up  Area  Ready To Move                  Kothanur      2 BHK   \n",
              "\n",
              "   society total_sqft  bath  balcony   price  \n",
              "0  Coomee        1056   2.0      1.0   39.07  \n",
              "1  Theanmp       2600   5.0      3.0  120.00  \n",
              "2      NaN       1440   2.0      3.0   62.00  \n",
              "3  Soiewre       1521   3.0      1.0   95.00  \n",
              "4      NaN       1200   2.0      1.0   51.00  "
            ]
          },
          "metadata": {
            "tags": []
          },
          "execution_count": 4
        }
      ]
    },
    {
      "metadata": {
        "id": "pN6QxrXVnNJZ",
        "colab_type": "code",
        "outputId": "5f5709f3-3f10-4f1a-c1ef-1b9c07e1dd4b",
        "colab": {
          "base_uri": "https://localhost:8080/",
          "height": 104
        }
      },
      "cell_type": "code",
      "source": [
        "train_data.area_type.value_counts()"
      ],
      "execution_count": 0,
      "outputs": [
        {
          "output_type": "execute_result",
          "data": {
            "text/plain": [
              "Super built-up  Area    8790\n",
              "Built-up  Area          2418\n",
              "Plot  Area              2025\n",
              "Carpet  Area              87\n",
              "Name: area_type, dtype: int64"
            ]
          },
          "metadata": {
            "tags": []
          },
          "execution_count": 4
        }
      ]
    },
    {
      "metadata": {
        "id": "Nwvj21-crtEo",
        "colab_type": "code",
        "colab": {}
      },
      "cell_type": "code",
      "source": [
        "# Convert categorical data into numeric in area_type column\n",
        "replace_area_type = {'Super built-up  Area': 0, 'Built-up  Area': 1, 'Plot  Area': 2, 'Carpet  Area': 3}\n",
        "train_data.area_type = train_data.area_type.map(replace_area_type)"
      ],
      "execution_count": 0,
      "outputs": []
    },
    {
      "metadata": {
        "id": "FgdnIM14IYlY",
        "colab_type": "code",
        "outputId": "09c83409-3a42-4dd7-8f9e-143a08babe4d",
        "colab": {
          "base_uri": "https://localhost:8080/",
          "height": 206
        }
      },
      "cell_type": "code",
      "source": [
        "train_data.head()"
      ],
      "execution_count": 0,
      "outputs": [
        {
          "output_type": "execute_result",
          "data": {
            "text/html": [
              "<div>\n",
              "<style scoped>\n",
              "    .dataframe tbody tr th:only-of-type {\n",
              "        vertical-align: middle;\n",
              "    }\n",
              "\n",
              "    .dataframe tbody tr th {\n",
              "        vertical-align: top;\n",
              "    }\n",
              "\n",
              "    .dataframe thead th {\n",
              "        text-align: right;\n",
              "    }\n",
              "</style>\n",
              "<table border=\"1\" class=\"dataframe\">\n",
              "  <thead>\n",
              "    <tr style=\"text-align: right;\">\n",
              "      <th></th>\n",
              "      <th>area_type</th>\n",
              "      <th>availability</th>\n",
              "      <th>location</th>\n",
              "      <th>size</th>\n",
              "      <th>society</th>\n",
              "      <th>total_sqft</th>\n",
              "      <th>bath</th>\n",
              "      <th>balcony</th>\n",
              "      <th>price</th>\n",
              "    </tr>\n",
              "  </thead>\n",
              "  <tbody>\n",
              "    <tr>\n",
              "      <th>0</th>\n",
              "      <td>0</td>\n",
              "      <td>19-Dec</td>\n",
              "      <td>Electronic City Phase II</td>\n",
              "      <td>2 BHK</td>\n",
              "      <td>Coomee</td>\n",
              "      <td>1056</td>\n",
              "      <td>2.0</td>\n",
              "      <td>1.0</td>\n",
              "      <td>39.07</td>\n",
              "    </tr>\n",
              "    <tr>\n",
              "      <th>1</th>\n",
              "      <td>2</td>\n",
              "      <td>Ready To Move</td>\n",
              "      <td>Chikka Tirupathi</td>\n",
              "      <td>4 Bedroom</td>\n",
              "      <td>Theanmp</td>\n",
              "      <td>2600</td>\n",
              "      <td>5.0</td>\n",
              "      <td>3.0</td>\n",
              "      <td>120.00</td>\n",
              "    </tr>\n",
              "    <tr>\n",
              "      <th>2</th>\n",
              "      <td>1</td>\n",
              "      <td>Ready To Move</td>\n",
              "      <td>Uttarahalli</td>\n",
              "      <td>3 BHK</td>\n",
              "      <td>NaN</td>\n",
              "      <td>1440</td>\n",
              "      <td>2.0</td>\n",
              "      <td>3.0</td>\n",
              "      <td>62.00</td>\n",
              "    </tr>\n",
              "    <tr>\n",
              "      <th>3</th>\n",
              "      <td>0</td>\n",
              "      <td>Ready To Move</td>\n",
              "      <td>Lingadheeranahalli</td>\n",
              "      <td>3 BHK</td>\n",
              "      <td>Soiewre</td>\n",
              "      <td>1521</td>\n",
              "      <td>3.0</td>\n",
              "      <td>1.0</td>\n",
              "      <td>95.00</td>\n",
              "    </tr>\n",
              "    <tr>\n",
              "      <th>4</th>\n",
              "      <td>0</td>\n",
              "      <td>Ready To Move</td>\n",
              "      <td>Kothanur</td>\n",
              "      <td>2 BHK</td>\n",
              "      <td>NaN</td>\n",
              "      <td>1200</td>\n",
              "      <td>2.0</td>\n",
              "      <td>1.0</td>\n",
              "      <td>51.00</td>\n",
              "    </tr>\n",
              "  </tbody>\n",
              "</table>\n",
              "</div>"
            ],
            "text/plain": [
              "   area_type   availability                  location       size  society  \\\n",
              "0          0         19-Dec  Electronic City Phase II      2 BHK  Coomee    \n",
              "1          2  Ready To Move          Chikka Tirupathi  4 Bedroom  Theanmp   \n",
              "2          1  Ready To Move               Uttarahalli      3 BHK      NaN   \n",
              "3          0  Ready To Move        Lingadheeranahalli      3 BHK  Soiewre   \n",
              "4          0  Ready To Move                  Kothanur      2 BHK      NaN   \n",
              "\n",
              "  total_sqft  bath  balcony   price  \n",
              "0       1056   2.0      1.0   39.07  \n",
              "1       2600   5.0      3.0  120.00  \n",
              "2       1440   2.0      3.0   62.00  \n",
              "3       1521   3.0      1.0   95.00  \n",
              "4       1200   2.0      1.0   51.00  "
            ]
          },
          "metadata": {
            "tags": []
          },
          "execution_count": 6
        }
      ]
    },
    {
      "metadata": {
        "id": "syXEWG9uIjA4",
        "colab_type": "code",
        "colab": {}
      },
      "cell_type": "code",
      "source": [
        "# Convert the categorical values into 3 categories in the 'availability' column.\n",
        "#   > Ready To Move\n",
        "#   > Immediate Possession\n",
        "#   > Others\n",
        "\n",
        "def replace_availability(value):\n",
        "  \n",
        "  if value == 'Ready To Move':\n",
        "    return 0\n",
        "  elif value == 'Immediate Possession':\n",
        "    return 1\n",
        "  else:\n",
        "    return 2"
      ],
      "execution_count": 0,
      "outputs": []
    },
    {
      "metadata": {
        "id": "SZAWSp3WJDBQ",
        "colab_type": "code",
        "colab": {}
      },
      "cell_type": "code",
      "source": [
        "# Apply the above function to convert the values of column availibility\n",
        "train_data['availability'] = train_data.availability.apply(replace_availability)"
      ],
      "execution_count": 0,
      "outputs": []
    },
    {
      "metadata": {
        "id": "Y1T-EQg5J3Gd",
        "colab_type": "code",
        "outputId": "90b80d3a-0a2d-4c4d-a760-0d417bcc74a1",
        "colab": {
          "base_uri": "https://localhost:8080/",
          "height": 206
        }
      },
      "cell_type": "code",
      "source": [
        "train_data.head()"
      ],
      "execution_count": 0,
      "outputs": [
        {
          "output_type": "execute_result",
          "data": {
            "text/html": [
              "<div>\n",
              "<style scoped>\n",
              "    .dataframe tbody tr th:only-of-type {\n",
              "        vertical-align: middle;\n",
              "    }\n",
              "\n",
              "    .dataframe tbody tr th {\n",
              "        vertical-align: top;\n",
              "    }\n",
              "\n",
              "    .dataframe thead th {\n",
              "        text-align: right;\n",
              "    }\n",
              "</style>\n",
              "<table border=\"1\" class=\"dataframe\">\n",
              "  <thead>\n",
              "    <tr style=\"text-align: right;\">\n",
              "      <th></th>\n",
              "      <th>area_type</th>\n",
              "      <th>availability</th>\n",
              "      <th>location</th>\n",
              "      <th>size</th>\n",
              "      <th>society</th>\n",
              "      <th>total_sqft</th>\n",
              "      <th>bath</th>\n",
              "      <th>balcony</th>\n",
              "      <th>price</th>\n",
              "    </tr>\n",
              "  </thead>\n",
              "  <tbody>\n",
              "    <tr>\n",
              "      <th>0</th>\n",
              "      <td>0</td>\n",
              "      <td>2</td>\n",
              "      <td>Electronic City Phase II</td>\n",
              "      <td>2 BHK</td>\n",
              "      <td>Coomee</td>\n",
              "      <td>1056</td>\n",
              "      <td>2.0</td>\n",
              "      <td>1.0</td>\n",
              "      <td>39.07</td>\n",
              "    </tr>\n",
              "    <tr>\n",
              "      <th>1</th>\n",
              "      <td>2</td>\n",
              "      <td>0</td>\n",
              "      <td>Chikka Tirupathi</td>\n",
              "      <td>4 Bedroom</td>\n",
              "      <td>Theanmp</td>\n",
              "      <td>2600</td>\n",
              "      <td>5.0</td>\n",
              "      <td>3.0</td>\n",
              "      <td>120.00</td>\n",
              "    </tr>\n",
              "    <tr>\n",
              "      <th>2</th>\n",
              "      <td>1</td>\n",
              "      <td>0</td>\n",
              "      <td>Uttarahalli</td>\n",
              "      <td>3 BHK</td>\n",
              "      <td>NaN</td>\n",
              "      <td>1440</td>\n",
              "      <td>2.0</td>\n",
              "      <td>3.0</td>\n",
              "      <td>62.00</td>\n",
              "    </tr>\n",
              "    <tr>\n",
              "      <th>3</th>\n",
              "      <td>0</td>\n",
              "      <td>0</td>\n",
              "      <td>Lingadheeranahalli</td>\n",
              "      <td>3 BHK</td>\n",
              "      <td>Soiewre</td>\n",
              "      <td>1521</td>\n",
              "      <td>3.0</td>\n",
              "      <td>1.0</td>\n",
              "      <td>95.00</td>\n",
              "    </tr>\n",
              "    <tr>\n",
              "      <th>4</th>\n",
              "      <td>0</td>\n",
              "      <td>0</td>\n",
              "      <td>Kothanur</td>\n",
              "      <td>2 BHK</td>\n",
              "      <td>NaN</td>\n",
              "      <td>1200</td>\n",
              "      <td>2.0</td>\n",
              "      <td>1.0</td>\n",
              "      <td>51.00</td>\n",
              "    </tr>\n",
              "  </tbody>\n",
              "</table>\n",
              "</div>"
            ],
            "text/plain": [
              "   area_type  availability                  location       size  society  \\\n",
              "0          0             2  Electronic City Phase II      2 BHK  Coomee    \n",
              "1          2             0          Chikka Tirupathi  4 Bedroom  Theanmp   \n",
              "2          1             0               Uttarahalli      3 BHK      NaN   \n",
              "3          0             0        Lingadheeranahalli      3 BHK  Soiewre   \n",
              "4          0             0                  Kothanur      2 BHK      NaN   \n",
              "\n",
              "  total_sqft  bath  balcony   price  \n",
              "0       1056   2.0      1.0   39.07  \n",
              "1       2600   5.0      3.0  120.00  \n",
              "2       1440   2.0      3.0   62.00  \n",
              "3       1521   3.0      1.0   95.00  \n",
              "4       1200   2.0      1.0   51.00  "
            ]
          },
          "metadata": {
            "tags": []
          },
          "execution_count": 9
        }
      ]
    },
    {
      "metadata": {
        "id": "w_WWqlC8J9xm",
        "colab_type": "code",
        "outputId": "b464b6d6-66d3-4838-a9dc-9f49a71d6ab4",
        "colab": {
          "base_uri": "https://localhost:8080/",
          "height": 81
        }
      },
      "cell_type": "code",
      "source": [
        "# Preprocess the column 'location'\n",
        "\n",
        "# check which value is null in location column\n",
        "train_data[~train_data.location.notnull()]"
      ],
      "execution_count": 0,
      "outputs": [
        {
          "output_type": "execute_result",
          "data": {
            "text/html": [
              "<div>\n",
              "<style scoped>\n",
              "    .dataframe tbody tr th:only-of-type {\n",
              "        vertical-align: middle;\n",
              "    }\n",
              "\n",
              "    .dataframe tbody tr th {\n",
              "        vertical-align: top;\n",
              "    }\n",
              "\n",
              "    .dataframe thead th {\n",
              "        text-align: right;\n",
              "    }\n",
              "</style>\n",
              "<table border=\"1\" class=\"dataframe\">\n",
              "  <thead>\n",
              "    <tr style=\"text-align: right;\">\n",
              "      <th></th>\n",
              "      <th>area_type</th>\n",
              "      <th>availability</th>\n",
              "      <th>location</th>\n",
              "      <th>size</th>\n",
              "      <th>society</th>\n",
              "      <th>total_sqft</th>\n",
              "      <th>bath</th>\n",
              "      <th>balcony</th>\n",
              "      <th>price</th>\n",
              "    </tr>\n",
              "  </thead>\n",
              "  <tbody>\n",
              "    <tr>\n",
              "      <th>568</th>\n",
              "      <td>0</td>\n",
              "      <td>0</td>\n",
              "      <td>NaN</td>\n",
              "      <td>3 BHK</td>\n",
              "      <td>Grare S</td>\n",
              "      <td>1600</td>\n",
              "      <td>3.0</td>\n",
              "      <td>2.0</td>\n",
              "      <td>86.0</td>\n",
              "    </tr>\n",
              "  </tbody>\n",
              "</table>\n",
              "</div>"
            ],
            "text/plain": [
              "     area_type  availability location   size  society total_sqft  bath  \\\n",
              "568          0             0      NaN  3 BHK  Grare S       1600   3.0   \n",
              "\n",
              "     balcony  price  \n",
              "568      2.0   86.0  "
            ]
          },
          "metadata": {
            "tags": []
          },
          "execution_count": 10
        }
      ]
    },
    {
      "metadata": {
        "id": "YE8ejZZ_NeRd",
        "colab_type": "code",
        "colab": {}
      },
      "cell_type": "code",
      "source": [
        "# fill the null value 568th row or null value with 'Location not provided'\n",
        "train_data['location'] = train_data.location.fillna('Location not Provided')"
      ],
      "execution_count": 0,
      "outputs": []
    },
    {
      "metadata": {
        "id": "iziCaSR-N8CT",
        "colab_type": "code",
        "outputId": "23a219a0-90f7-40e0-b31e-cc91c7dbfb03",
        "colab": {
          "base_uri": "https://localhost:8080/",
          "height": 49
        }
      },
      "cell_type": "code",
      "source": [
        "# check which value is null in location column again after preprocess\n",
        "train_data[~train_data.location.notnull()]"
      ],
      "execution_count": 0,
      "outputs": [
        {
          "output_type": "execute_result",
          "data": {
            "text/html": [
              "<div>\n",
              "<style scoped>\n",
              "    .dataframe tbody tr th:only-of-type {\n",
              "        vertical-align: middle;\n",
              "    }\n",
              "\n",
              "    .dataframe tbody tr th {\n",
              "        vertical-align: top;\n",
              "    }\n",
              "\n",
              "    .dataframe thead th {\n",
              "        text-align: right;\n",
              "    }\n",
              "</style>\n",
              "<table border=\"1\" class=\"dataframe\">\n",
              "  <thead>\n",
              "    <tr style=\"text-align: right;\">\n",
              "      <th></th>\n",
              "      <th>area_type</th>\n",
              "      <th>availability</th>\n",
              "      <th>location</th>\n",
              "      <th>size</th>\n",
              "      <th>society</th>\n",
              "      <th>total_sqft</th>\n",
              "      <th>bath</th>\n",
              "      <th>balcony</th>\n",
              "      <th>price</th>\n",
              "    </tr>\n",
              "  </thead>\n",
              "  <tbody>\n",
              "  </tbody>\n",
              "</table>\n",
              "</div>"
            ],
            "text/plain": [
              "Empty DataFrame\n",
              "Columns: [area_type, availability, location, size, society, total_sqft, bath, balcony, price]\n",
              "Index: []"
            ]
          },
          "metadata": {
            "tags": []
          },
          "execution_count": 12
        }
      ]
    },
    {
      "metadata": {
        "id": "WcnKNNy9riu3",
        "colab_type": "code",
        "colab": {}
      },
      "cell_type": "code",
      "source": [
        "# Convert categorical into numerical in column 'location'\n",
        "location_encoder = LabelEncoder()\n",
        "location_encoder.fit(train_data['location'].append(test_data['location']))\n",
        "train_data['location'] = location_encoder.transform(train_data['location'])\n"
      ],
      "execution_count": 0,
      "outputs": []
    },
    {
      "metadata": {
        "id": "BUl-tm7xrxfE",
        "colab_type": "code",
        "outputId": "a723eefb-c79a-4393-bf28-65a8e10eaeca",
        "colab": {
          "base_uri": "https://localhost:8080/",
          "height": 52
        }
      },
      "cell_type": "code",
      "source": [
        "location_encoder.classes_"
      ],
      "execution_count": 0,
      "outputs": [
        {
          "output_type": "execute_result",
          "data": {
            "text/plain": [
              "array([' Anekal', ' Banaswadi', ' Basavangudi', ..., 'whitefiled',\n",
              "       'yelahanka, north', 'yettagodi Road'], dtype=object)"
            ]
          },
          "metadata": {
            "tags": []
          },
          "execution_count": 14
        }
      ]
    },
    {
      "metadata": {
        "id": "FLe0pr03r167",
        "colab_type": "code",
        "outputId": "bfeec5ae-8bc2-4294-b16b-4d35dde7f279",
        "colab": {
          "base_uri": "https://localhost:8080/",
          "height": 206
        }
      },
      "cell_type": "code",
      "source": [
        "train_data.head()"
      ],
      "execution_count": 0,
      "outputs": [
        {
          "output_type": "execute_result",
          "data": {
            "text/html": [
              "<div>\n",
              "<style scoped>\n",
              "    .dataframe tbody tr th:only-of-type {\n",
              "        vertical-align: middle;\n",
              "    }\n",
              "\n",
              "    .dataframe tbody tr th {\n",
              "        vertical-align: top;\n",
              "    }\n",
              "\n",
              "    .dataframe thead th {\n",
              "        text-align: right;\n",
              "    }\n",
              "</style>\n",
              "<table border=\"1\" class=\"dataframe\">\n",
              "  <thead>\n",
              "    <tr style=\"text-align: right;\">\n",
              "      <th></th>\n",
              "      <th>area_type</th>\n",
              "      <th>availability</th>\n",
              "      <th>location</th>\n",
              "      <th>size</th>\n",
              "      <th>society</th>\n",
              "      <th>total_sqft</th>\n",
              "      <th>bath</th>\n",
              "      <th>balcony</th>\n",
              "      <th>price</th>\n",
              "    </tr>\n",
              "  </thead>\n",
              "  <tbody>\n",
              "    <tr>\n",
              "      <th>0</th>\n",
              "      <td>0</td>\n",
              "      <td>2</td>\n",
              "      <td>430</td>\n",
              "      <td>2 BHK</td>\n",
              "      <td>Coomee</td>\n",
              "      <td>1056</td>\n",
              "      <td>2.0</td>\n",
              "      <td>1.0</td>\n",
              "      <td>39.07</td>\n",
              "    </tr>\n",
              "    <tr>\n",
              "      <th>1</th>\n",
              "      <td>2</td>\n",
              "      <td>0</td>\n",
              "      <td>325</td>\n",
              "      <td>4 Bedroom</td>\n",
              "      <td>Theanmp</td>\n",
              "      <td>2600</td>\n",
              "      <td>5.0</td>\n",
              "      <td>3.0</td>\n",
              "      <td>120.00</td>\n",
              "    </tr>\n",
              "    <tr>\n",
              "      <th>2</th>\n",
              "      <td>1</td>\n",
              "      <td>0</td>\n",
              "      <td>1220</td>\n",
              "      <td>3 BHK</td>\n",
              "      <td>NaN</td>\n",
              "      <td>1440</td>\n",
              "      <td>2.0</td>\n",
              "      <td>3.0</td>\n",
              "      <td>62.00</td>\n",
              "    </tr>\n",
              "    <tr>\n",
              "      <th>3</th>\n",
              "      <td>0</td>\n",
              "      <td>0</td>\n",
              "      <td>778</td>\n",
              "      <td>3 BHK</td>\n",
              "      <td>Soiewre</td>\n",
              "      <td>1521</td>\n",
              "      <td>3.0</td>\n",
              "      <td>1.0</td>\n",
              "      <td>95.00</td>\n",
              "    </tr>\n",
              "    <tr>\n",
              "      <th>4</th>\n",
              "      <td>0</td>\n",
              "      <td>0</td>\n",
              "      <td>736</td>\n",
              "      <td>2 BHK</td>\n",
              "      <td>NaN</td>\n",
              "      <td>1200</td>\n",
              "      <td>2.0</td>\n",
              "      <td>1.0</td>\n",
              "      <td>51.00</td>\n",
              "    </tr>\n",
              "  </tbody>\n",
              "</table>\n",
              "</div>"
            ],
            "text/plain": [
              "   area_type  availability  location       size  society total_sqft  bath  \\\n",
              "0          0             2       430      2 BHK  Coomee        1056   2.0   \n",
              "1          2             0       325  4 Bedroom  Theanmp       2600   5.0   \n",
              "2          1             0      1220      3 BHK      NaN       1440   2.0   \n",
              "3          0             0       778      3 BHK  Soiewre       1521   3.0   \n",
              "4          0             0       736      2 BHK      NaN       1200   2.0   \n",
              "\n",
              "   balcony   price  \n",
              "0      1.0   39.07  \n",
              "1      3.0  120.00  \n",
              "2      3.0   62.00  \n",
              "3      1.0   95.00  \n",
              "4      1.0   51.00  "
            ]
          },
          "metadata": {
            "tags": []
          },
          "execution_count": 15
        }
      ]
    },
    {
      "metadata": {
        "id": "gZ9vrMu6ODvF",
        "colab_type": "code",
        "colab": {}
      },
      "cell_type": "code",
      "source": [
        "# Preprocess the column 'size'\n",
        "\n",
        "# Convert all the categorical data into numerical using LabelEncoder\n",
        "size_encoder = LabelEncoder()\n",
        "size_encoder.fit(train_data['size'].astype('str').append(test_data['size'].astype('str')))\n",
        "train_data['size'] = size_encoder.transform(train_data['size'].astype('str'))"
      ],
      "execution_count": 0,
      "outputs": []
    },
    {
      "metadata": {
        "id": "7z9a46HiKNDb",
        "colab_type": "code",
        "outputId": "aa6b81aa-6c1b-437c-e03f-beadc37f8877",
        "colab": {
          "base_uri": "https://localhost:8080/",
          "height": 121
        }
      },
      "cell_type": "code",
      "source": [
        "size_encoder.classes_"
      ],
      "execution_count": 0,
      "outputs": [
        {
          "output_type": "execute_result",
          "data": {
            "text/plain": [
              "array(['1 BHK', '1 Bedroom', '1 RK', '10 BHK', '10 Bedroom', '11 BHK',\n",
              "       '11 Bedroom', '12 Bedroom', '13 BHK', '14 BHK', '16 BHK',\n",
              "       '16 Bedroom', '18 Bedroom', '19 BHK', '2 BHK', '2 Bedroom',\n",
              "       '27 BHK', '3 BHK', '3 Bedroom', '4 BHK', '4 Bedroom', '43 Bedroom',\n",
              "       '5 BHK', '5 Bedroom', '6 BHK', '6 Bedroom', '7 BHK', '7 Bedroom',\n",
              "       '8 BHK', '8 Bedroom', '9 BHK', '9 Bedroom', 'nan'], dtype=object)"
            ]
          },
          "metadata": {
            "tags": []
          },
          "execution_count": 17
        }
      ]
    },
    {
      "metadata": {
        "id": "Bz0GHilMN7ll",
        "colab_type": "code",
        "outputId": "fbcc8d2e-e1f3-4ccd-abcf-eae15ca0f601",
        "colab": {
          "base_uri": "https://localhost:8080/",
          "height": 206
        }
      },
      "cell_type": "code",
      "source": [
        "train_data.head()"
      ],
      "execution_count": 0,
      "outputs": [
        {
          "output_type": "execute_result",
          "data": {
            "text/html": [
              "<div>\n",
              "<style scoped>\n",
              "    .dataframe tbody tr th:only-of-type {\n",
              "        vertical-align: middle;\n",
              "    }\n",
              "\n",
              "    .dataframe tbody tr th {\n",
              "        vertical-align: top;\n",
              "    }\n",
              "\n",
              "    .dataframe thead th {\n",
              "        text-align: right;\n",
              "    }\n",
              "</style>\n",
              "<table border=\"1\" class=\"dataframe\">\n",
              "  <thead>\n",
              "    <tr style=\"text-align: right;\">\n",
              "      <th></th>\n",
              "      <th>area_type</th>\n",
              "      <th>availability</th>\n",
              "      <th>location</th>\n",
              "      <th>size</th>\n",
              "      <th>society</th>\n",
              "      <th>total_sqft</th>\n",
              "      <th>bath</th>\n",
              "      <th>balcony</th>\n",
              "      <th>price</th>\n",
              "    </tr>\n",
              "  </thead>\n",
              "  <tbody>\n",
              "    <tr>\n",
              "      <th>0</th>\n",
              "      <td>0</td>\n",
              "      <td>2</td>\n",
              "      <td>430</td>\n",
              "      <td>14</td>\n",
              "      <td>Coomee</td>\n",
              "      <td>1056</td>\n",
              "      <td>2.0</td>\n",
              "      <td>1.0</td>\n",
              "      <td>39.07</td>\n",
              "    </tr>\n",
              "    <tr>\n",
              "      <th>1</th>\n",
              "      <td>2</td>\n",
              "      <td>0</td>\n",
              "      <td>325</td>\n",
              "      <td>20</td>\n",
              "      <td>Theanmp</td>\n",
              "      <td>2600</td>\n",
              "      <td>5.0</td>\n",
              "      <td>3.0</td>\n",
              "      <td>120.00</td>\n",
              "    </tr>\n",
              "    <tr>\n",
              "      <th>2</th>\n",
              "      <td>1</td>\n",
              "      <td>0</td>\n",
              "      <td>1220</td>\n",
              "      <td>17</td>\n",
              "      <td>NaN</td>\n",
              "      <td>1440</td>\n",
              "      <td>2.0</td>\n",
              "      <td>3.0</td>\n",
              "      <td>62.00</td>\n",
              "    </tr>\n",
              "    <tr>\n",
              "      <th>3</th>\n",
              "      <td>0</td>\n",
              "      <td>0</td>\n",
              "      <td>778</td>\n",
              "      <td>17</td>\n",
              "      <td>Soiewre</td>\n",
              "      <td>1521</td>\n",
              "      <td>3.0</td>\n",
              "      <td>1.0</td>\n",
              "      <td>95.00</td>\n",
              "    </tr>\n",
              "    <tr>\n",
              "      <th>4</th>\n",
              "      <td>0</td>\n",
              "      <td>0</td>\n",
              "      <td>736</td>\n",
              "      <td>14</td>\n",
              "      <td>NaN</td>\n",
              "      <td>1200</td>\n",
              "      <td>2.0</td>\n",
              "      <td>1.0</td>\n",
              "      <td>51.00</td>\n",
              "    </tr>\n",
              "  </tbody>\n",
              "</table>\n",
              "</div>"
            ],
            "text/plain": [
              "   area_type  availability  location  size  society total_sqft  bath  balcony  \\\n",
              "0          0             2       430    14  Coomee        1056   2.0      1.0   \n",
              "1          2             0       325    20  Theanmp       2600   5.0      3.0   \n",
              "2          1             0      1220    17      NaN       1440   2.0      3.0   \n",
              "3          0             0       778    17  Soiewre       1521   3.0      1.0   \n",
              "4          0             0       736    14      NaN       1200   2.0      1.0   \n",
              "\n",
              "    price  \n",
              "0   39.07  \n",
              "1  120.00  \n",
              "2   62.00  \n",
              "3   95.00  \n",
              "4   51.00  "
            ]
          },
          "metadata": {
            "tags": []
          },
          "execution_count": 18
        }
      ]
    },
    {
      "metadata": {
        "id": "z8UMJGz-Ybzu",
        "colab_type": "code",
        "outputId": "b6e039ee-e146-4a8d-c21c-2568de8f771e",
        "colab": {
          "base_uri": "https://localhost:8080/",
          "height": 1992
        }
      },
      "cell_type": "code",
      "source": [
        "# Preprocess the column 'society'\n",
        "\n",
        "# check which value is null in society column\n",
        "\n",
        "train_data[~train_data.society.notnull()]"
      ],
      "execution_count": 0,
      "outputs": [
        {
          "output_type": "execute_result",
          "data": {
            "text/html": [
              "<div>\n",
              "<style scoped>\n",
              "    .dataframe tbody tr th:only-of-type {\n",
              "        vertical-align: middle;\n",
              "    }\n",
              "\n",
              "    .dataframe tbody tr th {\n",
              "        vertical-align: top;\n",
              "    }\n",
              "\n",
              "    .dataframe thead th {\n",
              "        text-align: right;\n",
              "    }\n",
              "</style>\n",
              "<table border=\"1\" class=\"dataframe\">\n",
              "  <thead>\n",
              "    <tr style=\"text-align: right;\">\n",
              "      <th></th>\n",
              "      <th>area_type</th>\n",
              "      <th>availability</th>\n",
              "      <th>location</th>\n",
              "      <th>size</th>\n",
              "      <th>society</th>\n",
              "      <th>total_sqft</th>\n",
              "      <th>bath</th>\n",
              "      <th>balcony</th>\n",
              "      <th>price</th>\n",
              "    </tr>\n",
              "  </thead>\n",
              "  <tbody>\n",
              "    <tr>\n",
              "      <th>2</th>\n",
              "      <td>1</td>\n",
              "      <td>0</td>\n",
              "      <td>1220</td>\n",
              "      <td>17</td>\n",
              "      <td>NaN</td>\n",
              "      <td>1440</td>\n",
              "      <td>2.0</td>\n",
              "      <td>3.0</td>\n",
              "      <td>62.00</td>\n",
              "    </tr>\n",
              "    <tr>\n",
              "      <th>4</th>\n",
              "      <td>0</td>\n",
              "      <td>0</td>\n",
              "      <td>736</td>\n",
              "      <td>14</td>\n",
              "      <td>NaN</td>\n",
              "      <td>1200</td>\n",
              "      <td>2.0</td>\n",
              "      <td>1.0</td>\n",
              "      <td>51.00</td>\n",
              "    </tr>\n",
              "    <tr>\n",
              "      <th>8</th>\n",
              "      <td>0</td>\n",
              "      <td>0</td>\n",
              "      <td>821</td>\n",
              "      <td>17</td>\n",
              "      <td>NaN</td>\n",
              "      <td>1310</td>\n",
              "      <td>3.0</td>\n",
              "      <td>1.0</td>\n",
              "      <td>63.25</td>\n",
              "    </tr>\n",
              "    <tr>\n",
              "      <th>9</th>\n",
              "      <td>2</td>\n",
              "      <td>0</td>\n",
              "      <td>445</td>\n",
              "      <td>25</td>\n",
              "      <td>NaN</td>\n",
              "      <td>1020</td>\n",
              "      <td>6.0</td>\n",
              "      <td>NaN</td>\n",
              "      <td>370.00</td>\n",
              "    </tr>\n",
              "    <tr>\n",
              "      <th>10</th>\n",
              "      <td>0</td>\n",
              "      <td>2</td>\n",
              "      <td>1297</td>\n",
              "      <td>17</td>\n",
              "      <td>NaN</td>\n",
              "      <td>1800</td>\n",
              "      <td>2.0</td>\n",
              "      <td>2.0</td>\n",
              "      <td>70.00</td>\n",
              "    </tr>\n",
              "    <tr>\n",
              "      <th>13</th>\n",
              "      <td>1</td>\n",
              "      <td>0</td>\n",
              "      <td>477</td>\n",
              "      <td>14</td>\n",
              "      <td>NaN</td>\n",
              "      <td>1100</td>\n",
              "      <td>2.0</td>\n",
              "      <td>2.0</td>\n",
              "      <td>40.00</td>\n",
              "    </tr>\n",
              "    <tr>\n",
              "      <th>19</th>\n",
              "      <td>0</td>\n",
              "      <td>0</td>\n",
              "      <td>810</td>\n",
              "      <td>14</td>\n",
              "      <td>NaN</td>\n",
              "      <td>1100</td>\n",
              "      <td>2.0</td>\n",
              "      <td>2.0</td>\n",
              "      <td>48.00</td>\n",
              "    </tr>\n",
              "    <tr>\n",
              "      <th>20</th>\n",
              "      <td>1</td>\n",
              "      <td>0</td>\n",
              "      <td>706</td>\n",
              "      <td>0</td>\n",
              "      <td>NaN</td>\n",
              "      <td>600</td>\n",
              "      <td>1.0</td>\n",
              "      <td>1.0</td>\n",
              "      <td>15.00</td>\n",
              "    </tr>\n",
              "    <tr>\n",
              "      <th>23</th>\n",
              "      <td>0</td>\n",
              "      <td>0</td>\n",
              "      <td>242</td>\n",
              "      <td>17</td>\n",
              "      <td>NaN</td>\n",
              "      <td>1767</td>\n",
              "      <td>3.0</td>\n",
              "      <td>1.0</td>\n",
              "      <td>103.00</td>\n",
              "    </tr>\n",
              "    <tr>\n",
              "      <th>25</th>\n",
              "      <td>0</td>\n",
              "      <td>2</td>\n",
              "      <td>811</td>\n",
              "      <td>17</td>\n",
              "      <td>NaN</td>\n",
              "      <td>1250</td>\n",
              "      <td>3.0</td>\n",
              "      <td>2.0</td>\n",
              "      <td>56.00</td>\n",
              "    </tr>\n",
              "    <tr>\n",
              "      <th>27</th>\n",
              "      <td>1</td>\n",
              "      <td>2</td>\n",
              "      <td>1297</td>\n",
              "      <td>17</td>\n",
              "      <td>NaN</td>\n",
              "      <td>1610</td>\n",
              "      <td>3.0</td>\n",
              "      <td>2.0</td>\n",
              "      <td>81.00</td>\n",
              "    </tr>\n",
              "    <tr>\n",
              "      <th>36</th>\n",
              "      <td>0</td>\n",
              "      <td>0</td>\n",
              "      <td>433</td>\n",
              "      <td>14</td>\n",
              "      <td>NaN</td>\n",
              "      <td>1070</td>\n",
              "      <td>2.0</td>\n",
              "      <td>1.0</td>\n",
              "      <td>45.50</td>\n",
              "    </tr>\n",
              "    <tr>\n",
              "      <th>38</th>\n",
              "      <td>0</td>\n",
              "      <td>0</td>\n",
              "      <td>334</td>\n",
              "      <td>17</td>\n",
              "      <td>NaN</td>\n",
              "      <td>1290</td>\n",
              "      <td>2.0</td>\n",
              "      <td>2.0</td>\n",
              "      <td>56.12</td>\n",
              "    </tr>\n",
              "    <tr>\n",
              "      <th>39</th>\n",
              "      <td>1</td>\n",
              "      <td>0</td>\n",
              "      <td>1220</td>\n",
              "      <td>14</td>\n",
              "      <td>NaN</td>\n",
              "      <td>1143</td>\n",
              "      <td>2.0</td>\n",
              "      <td>2.0</td>\n",
              "      <td>45.00</td>\n",
              "    </tr>\n",
              "    <tr>\n",
              "      <th>43</th>\n",
              "      <td>2</td>\n",
              "      <td>0</td>\n",
              "      <td>1306</td>\n",
              "      <td>1</td>\n",
              "      <td>NaN</td>\n",
              "      <td>660</td>\n",
              "      <td>1.0</td>\n",
              "      <td>0.0</td>\n",
              "      <td>48.00</td>\n",
              "    </tr>\n",
              "    <tr>\n",
              "      <th>45</th>\n",
              "      <td>2</td>\n",
              "      <td>0</td>\n",
              "      <td>505</td>\n",
              "      <td>29</td>\n",
              "      <td>NaN</td>\n",
              "      <td>600</td>\n",
              "      <td>9.0</td>\n",
              "      <td>NaN</td>\n",
              "      <td>200.00</td>\n",
              "    </tr>\n",
              "    <tr>\n",
              "      <th>48</th>\n",
              "      <td>2</td>\n",
              "      <td>0</td>\n",
              "      <td>642</td>\n",
              "      <td>15</td>\n",
              "      <td>NaN</td>\n",
              "      <td>800</td>\n",
              "      <td>1.0</td>\n",
              "      <td>1.0</td>\n",
              "      <td>130.00</td>\n",
              "    </tr>\n",
              "    <tr>\n",
              "      <th>49</th>\n",
              "      <td>1</td>\n",
              "      <td>0</td>\n",
              "      <td>538</td>\n",
              "      <td>14</td>\n",
              "      <td>NaN</td>\n",
              "      <td>869</td>\n",
              "      <td>2.0</td>\n",
              "      <td>1.0</td>\n",
              "      <td>36.00</td>\n",
              "    </tr>\n",
              "    <tr>\n",
              "      <th>58</th>\n",
              "      <td>2</td>\n",
              "      <td>0</td>\n",
              "      <td>857</td>\n",
              "      <td>25</td>\n",
              "      <td>NaN</td>\n",
              "      <td>1407</td>\n",
              "      <td>4.0</td>\n",
              "      <td>1.0</td>\n",
              "      <td>150.00</td>\n",
              "    </tr>\n",
              "    <tr>\n",
              "      <th>59</th>\n",
              "      <td>0</td>\n",
              "      <td>0</td>\n",
              "      <td>479</td>\n",
              "      <td>14</td>\n",
              "      <td>NaN</td>\n",
              "      <td>840</td>\n",
              "      <td>2.0</td>\n",
              "      <td>2.0</td>\n",
              "      <td>45.00</td>\n",
              "    </tr>\n",
              "    <tr>\n",
              "      <th>60</th>\n",
              "      <td>2</td>\n",
              "      <td>0</td>\n",
              "      <td>1191</td>\n",
              "      <td>18</td>\n",
              "      <td>NaN</td>\n",
              "      <td>4395</td>\n",
              "      <td>3.0</td>\n",
              "      <td>2.0</td>\n",
              "      <td>240.00</td>\n",
              "    </tr>\n",
              "    <tr>\n",
              "      <th>64</th>\n",
              "      <td>1</td>\n",
              "      <td>0</td>\n",
              "      <td>276</td>\n",
              "      <td>29</td>\n",
              "      <td>NaN</td>\n",
              "      <td>3000</td>\n",
              "      <td>8.0</td>\n",
              "      <td>0.0</td>\n",
              "      <td>140.00</td>\n",
              "    </tr>\n",
              "    <tr>\n",
              "      <th>65</th>\n",
              "      <td>0</td>\n",
              "      <td>0</td>\n",
              "      <td>406</td>\n",
              "      <td>14</td>\n",
              "      <td>NaN</td>\n",
              "      <td>1100</td>\n",
              "      <td>2.0</td>\n",
              "      <td>1.0</td>\n",
              "      <td>62.00</td>\n",
              "    </tr>\n",
              "    <tr>\n",
              "      <th>67</th>\n",
              "      <td>0</td>\n",
              "      <td>0</td>\n",
              "      <td>821</td>\n",
              "      <td>14</td>\n",
              "      <td>NaN</td>\n",
              "      <td>1220</td>\n",
              "      <td>2.0</td>\n",
              "      <td>1.0</td>\n",
              "      <td>57.00</td>\n",
              "    </tr>\n",
              "    <tr>\n",
              "      <th>68</th>\n",
              "      <td>2</td>\n",
              "      <td>0</td>\n",
              "      <td>381</td>\n",
              "      <td>29</td>\n",
              "      <td>NaN</td>\n",
              "      <td>1350</td>\n",
              "      <td>7.0</td>\n",
              "      <td>0.0</td>\n",
              "      <td>85.00</td>\n",
              "    </tr>\n",
              "    <tr>\n",
              "      <th>69</th>\n",
              "      <td>0</td>\n",
              "      <td>0</td>\n",
              "      <td>681</td>\n",
              "      <td>14</td>\n",
              "      <td>NaN</td>\n",
              "      <td>1005</td>\n",
              "      <td>2.0</td>\n",
              "      <td>1.0</td>\n",
              "      <td>36.68</td>\n",
              "    </tr>\n",
              "    <tr>\n",
              "      <th>70</th>\n",
              "      <td>2</td>\n",
              "      <td>0</td>\n",
              "      <td>417</td>\n",
              "      <td>18</td>\n",
              "      <td>NaN</td>\n",
              "      <td>500</td>\n",
              "      <td>3.0</td>\n",
              "      <td>2.0</td>\n",
              "      <td>100.00</td>\n",
              "    </tr>\n",
              "    <tr>\n",
              "      <th>75</th>\n",
              "      <td>0</td>\n",
              "      <td>0</td>\n",
              "      <td>735</td>\n",
              "      <td>14</td>\n",
              "      <td>NaN</td>\n",
              "      <td>1206</td>\n",
              "      <td>2.0</td>\n",
              "      <td>1.0</td>\n",
              "      <td>48.23</td>\n",
              "    </tr>\n",
              "    <tr>\n",
              "      <th>76</th>\n",
              "      <td>0</td>\n",
              "      <td>0</td>\n",
              "      <td>657</td>\n",
              "      <td>14</td>\n",
              "      <td>NaN</td>\n",
              "      <td>1150</td>\n",
              "      <td>2.0</td>\n",
              "      <td>3.0</td>\n",
              "      <td>40.00</td>\n",
              "    </tr>\n",
              "    <tr>\n",
              "      <th>78</th>\n",
              "      <td>1</td>\n",
              "      <td>0</td>\n",
              "      <td>696</td>\n",
              "      <td>14</td>\n",
              "      <td>NaN</td>\n",
              "      <td>460</td>\n",
              "      <td>1.0</td>\n",
              "      <td>0.0</td>\n",
              "      <td>22.00</td>\n",
              "    </tr>\n",
              "    <tr>\n",
              "      <th>...</th>\n",
              "      <td>...</td>\n",
              "      <td>...</td>\n",
              "      <td>...</td>\n",
              "      <td>...</td>\n",
              "      <td>...</td>\n",
              "      <td>...</td>\n",
              "      <td>...</td>\n",
              "      <td>...</td>\n",
              "      <td>...</td>\n",
              "    </tr>\n",
              "    <tr>\n",
              "      <th>13246</th>\n",
              "      <td>1</td>\n",
              "      <td>0</td>\n",
              "      <td>1077</td>\n",
              "      <td>20</td>\n",
              "      <td>NaN</td>\n",
              "      <td>2758</td>\n",
              "      <td>4.0</td>\n",
              "      <td>1.0</td>\n",
              "      <td>240.00</td>\n",
              "    </tr>\n",
              "    <tr>\n",
              "      <th>13247</th>\n",
              "      <td>2</td>\n",
              "      <td>0</td>\n",
              "      <td>67</td>\n",
              "      <td>20</td>\n",
              "      <td>NaN</td>\n",
              "      <td>1200</td>\n",
              "      <td>5.0</td>\n",
              "      <td>NaN</td>\n",
              "      <td>325.00</td>\n",
              "    </tr>\n",
              "    <tr>\n",
              "      <th>13248</th>\n",
              "      <td>0</td>\n",
              "      <td>2</td>\n",
              "      <td>1077</td>\n",
              "      <td>14</td>\n",
              "      <td>NaN</td>\n",
              "      <td>1132</td>\n",
              "      <td>2.0</td>\n",
              "      <td>1.0</td>\n",
              "      <td>70.00</td>\n",
              "    </tr>\n",
              "    <tr>\n",
              "      <th>13250</th>\n",
              "      <td>1</td>\n",
              "      <td>0</td>\n",
              "      <td>542</td>\n",
              "      <td>17</td>\n",
              "      <td>NaN</td>\n",
              "      <td>1490</td>\n",
              "      <td>3.0</td>\n",
              "      <td>0.0</td>\n",
              "      <td>85.00</td>\n",
              "    </tr>\n",
              "    <tr>\n",
              "      <th>13254</th>\n",
              "      <td>1</td>\n",
              "      <td>0</td>\n",
              "      <td>742</td>\n",
              "      <td>14</td>\n",
              "      <td>NaN</td>\n",
              "      <td>1310</td>\n",
              "      <td>2.0</td>\n",
              "      <td>2.0</td>\n",
              "      <td>53.00</td>\n",
              "    </tr>\n",
              "    <tr>\n",
              "      <th>13256</th>\n",
              "      <td>0</td>\n",
              "      <td>0</td>\n",
              "      <td>741</td>\n",
              "      <td>14</td>\n",
              "      <td>NaN</td>\n",
              "      <td>1041</td>\n",
              "      <td>2.0</td>\n",
              "      <td>1.0</td>\n",
              "      <td>53.00</td>\n",
              "    </tr>\n",
              "    <tr>\n",
              "      <th>13261</th>\n",
              "      <td>2</td>\n",
              "      <td>0</td>\n",
              "      <td>524</td>\n",
              "      <td>18</td>\n",
              "      <td>NaN</td>\n",
              "      <td>2000</td>\n",
              "      <td>2.0</td>\n",
              "      <td>2.0</td>\n",
              "      <td>360.00</td>\n",
              "    </tr>\n",
              "    <tr>\n",
              "      <th>13263</th>\n",
              "      <td>1</td>\n",
              "      <td>0</td>\n",
              "      <td>1077</td>\n",
              "      <td>17</td>\n",
              "      <td>NaN</td>\n",
              "      <td>1380</td>\n",
              "      <td>2.0</td>\n",
              "      <td>2.0</td>\n",
              "      <td>55.00</td>\n",
              "    </tr>\n",
              "    <tr>\n",
              "      <th>13270</th>\n",
              "      <td>0</td>\n",
              "      <td>0</td>\n",
              "      <td>1113</td>\n",
              "      <td>17</td>\n",
              "      <td>NaN</td>\n",
              "      <td>1226</td>\n",
              "      <td>2.0</td>\n",
              "      <td>2.0</td>\n",
              "      <td>60.00</td>\n",
              "    </tr>\n",
              "    <tr>\n",
              "      <th>13273</th>\n",
              "      <td>0</td>\n",
              "      <td>0</td>\n",
              "      <td>1005</td>\n",
              "      <td>0</td>\n",
              "      <td>NaN</td>\n",
              "      <td>510</td>\n",
              "      <td>1.0</td>\n",
              "      <td>1.0</td>\n",
              "      <td>22.00</td>\n",
              "    </tr>\n",
              "    <tr>\n",
              "      <th>13275</th>\n",
              "      <td>2</td>\n",
              "      <td>0</td>\n",
              "      <td>735</td>\n",
              "      <td>20</td>\n",
              "      <td>NaN</td>\n",
              "      <td>1600</td>\n",
              "      <td>4.0</td>\n",
              "      <td>2.0</td>\n",
              "      <td>45.00</td>\n",
              "    </tr>\n",
              "    <tr>\n",
              "      <th>13277</th>\n",
              "      <td>2</td>\n",
              "      <td>0</td>\n",
              "      <td>752</td>\n",
              "      <td>27</td>\n",
              "      <td>NaN</td>\n",
              "      <td>1400</td>\n",
              "      <td>7.0</td>\n",
              "      <td>NaN</td>\n",
              "      <td>218.00</td>\n",
              "    </tr>\n",
              "    <tr>\n",
              "      <th>13279</th>\n",
              "      <td>2</td>\n",
              "      <td>0</td>\n",
              "      <td>1277</td>\n",
              "      <td>25</td>\n",
              "      <td>NaN</td>\n",
              "      <td>1200</td>\n",
              "      <td>5.0</td>\n",
              "      <td>NaN</td>\n",
              "      <td>130.00</td>\n",
              "    </tr>\n",
              "    <tr>\n",
              "      <th>13280</th>\n",
              "      <td>1</td>\n",
              "      <td>0</td>\n",
              "      <td>1076</td>\n",
              "      <td>17</td>\n",
              "      <td>NaN</td>\n",
              "      <td>1425</td>\n",
              "      <td>3.0</td>\n",
              "      <td>2.0</td>\n",
              "      <td>57.00</td>\n",
              "    </tr>\n",
              "    <tr>\n",
              "      <th>13281</th>\n",
              "      <td>2</td>\n",
              "      <td>0</td>\n",
              "      <td>825</td>\n",
              "      <td>23</td>\n",
              "      <td>NaN</td>\n",
              "      <td>1375</td>\n",
              "      <td>5.0</td>\n",
              "      <td>1.0</td>\n",
              "      <td>125.00</td>\n",
              "    </tr>\n",
              "    <tr>\n",
              "      <th>13288</th>\n",
              "      <td>0</td>\n",
              "      <td>2</td>\n",
              "      <td>795</td>\n",
              "      <td>14</td>\n",
              "      <td>NaN</td>\n",
              "      <td>1050</td>\n",
              "      <td>2.0</td>\n",
              "      <td>1.0</td>\n",
              "      <td>42.00</td>\n",
              "    </tr>\n",
              "    <tr>\n",
              "      <th>13291</th>\n",
              "      <td>2</td>\n",
              "      <td>2</td>\n",
              "      <td>1293</td>\n",
              "      <td>1</td>\n",
              "      <td>NaN</td>\n",
              "      <td>812</td>\n",
              "      <td>1.0</td>\n",
              "      <td>0.0</td>\n",
              "      <td>26.00</td>\n",
              "    </tr>\n",
              "    <tr>\n",
              "      <th>13296</th>\n",
              "      <td>0</td>\n",
              "      <td>0</td>\n",
              "      <td>358</td>\n",
              "      <td>14</td>\n",
              "      <td>NaN</td>\n",
              "      <td>1200</td>\n",
              "      <td>2.0</td>\n",
              "      <td>2.0</td>\n",
              "      <td>140.00</td>\n",
              "    </tr>\n",
              "    <tr>\n",
              "      <th>13300</th>\n",
              "      <td>2</td>\n",
              "      <td>0</td>\n",
              "      <td>551</td>\n",
              "      <td>23</td>\n",
              "      <td>NaN</td>\n",
              "      <td>1500</td>\n",
              "      <td>6.0</td>\n",
              "      <td>2.0</td>\n",
              "      <td>145.00</td>\n",
              "    </tr>\n",
              "    <tr>\n",
              "      <th>13301</th>\n",
              "      <td>0</td>\n",
              "      <td>0</td>\n",
              "      <td>736</td>\n",
              "      <td>17</td>\n",
              "      <td>NaN</td>\n",
              "      <td>1454</td>\n",
              "      <td>3.0</td>\n",
              "      <td>3.0</td>\n",
              "      <td>71.50</td>\n",
              "    </tr>\n",
              "    <tr>\n",
              "      <th>13302</th>\n",
              "      <td>0</td>\n",
              "      <td>0</td>\n",
              "      <td>137</td>\n",
              "      <td>14</td>\n",
              "      <td>NaN</td>\n",
              "      <td>1075</td>\n",
              "      <td>2.0</td>\n",
              "      <td>2.0</td>\n",
              "      <td>48.00</td>\n",
              "    </tr>\n",
              "    <tr>\n",
              "      <th>13303</th>\n",
              "      <td>2</td>\n",
              "      <td>0</td>\n",
              "      <td>1258</td>\n",
              "      <td>23</td>\n",
              "      <td>NaN</td>\n",
              "      <td>774</td>\n",
              "      <td>5.0</td>\n",
              "      <td>3.0</td>\n",
              "      <td>70.00</td>\n",
              "    </tr>\n",
              "    <tr>\n",
              "      <th>13305</th>\n",
              "      <td>3</td>\n",
              "      <td>0</td>\n",
              "      <td>561</td>\n",
              "      <td>0</td>\n",
              "      <td>NaN</td>\n",
              "      <td>500</td>\n",
              "      <td>1.0</td>\n",
              "      <td>3.0</td>\n",
              "      <td>220.00</td>\n",
              "    </tr>\n",
              "    <tr>\n",
              "      <th>13306</th>\n",
              "      <td>2</td>\n",
              "      <td>0</td>\n",
              "      <td>1016</td>\n",
              "      <td>20</td>\n",
              "      <td>NaN</td>\n",
              "      <td>1200</td>\n",
              "      <td>5.0</td>\n",
              "      <td>NaN</td>\n",
              "      <td>325.00</td>\n",
              "    </tr>\n",
              "    <tr>\n",
              "      <th>13307</th>\n",
              "      <td>1</td>\n",
              "      <td>0</td>\n",
              "      <td>271</td>\n",
              "      <td>17</td>\n",
              "      <td>NaN</td>\n",
              "      <td>1805</td>\n",
              "      <td>3.0</td>\n",
              "      <td>3.0</td>\n",
              "      <td>134.00</td>\n",
              "    </tr>\n",
              "    <tr>\n",
              "      <th>13310</th>\n",
              "      <td>0</td>\n",
              "      <td>0</td>\n",
              "      <td>995</td>\n",
              "      <td>14</td>\n",
              "      <td>NaN</td>\n",
              "      <td>1050</td>\n",
              "      <td>2.0</td>\n",
              "      <td>2.0</td>\n",
              "      <td>52.71</td>\n",
              "    </tr>\n",
              "    <tr>\n",
              "      <th>13311</th>\n",
              "      <td>2</td>\n",
              "      <td>0</td>\n",
              "      <td>1025</td>\n",
              "      <td>27</td>\n",
              "      <td>NaN</td>\n",
              "      <td>1500</td>\n",
              "      <td>9.0</td>\n",
              "      <td>2.0</td>\n",
              "      <td>250.00</td>\n",
              "    </tr>\n",
              "    <tr>\n",
              "      <th>13312</th>\n",
              "      <td>0</td>\n",
              "      <td>0</td>\n",
              "      <td>242</td>\n",
              "      <td>14</td>\n",
              "      <td>NaN</td>\n",
              "      <td>1262</td>\n",
              "      <td>2.0</td>\n",
              "      <td>2.0</td>\n",
              "      <td>47.00</td>\n",
              "    </tr>\n",
              "    <tr>\n",
              "      <th>13316</th>\n",
              "      <td>0</td>\n",
              "      <td>0</td>\n",
              "      <td>1040</td>\n",
              "      <td>19</td>\n",
              "      <td>NaN</td>\n",
              "      <td>3600</td>\n",
              "      <td>5.0</td>\n",
              "      <td>NaN</td>\n",
              "      <td>400.00</td>\n",
              "    </tr>\n",
              "    <tr>\n",
              "      <th>13319</th>\n",
              "      <td>0</td>\n",
              "      <td>0</td>\n",
              "      <td>406</td>\n",
              "      <td>0</td>\n",
              "      <td>NaN</td>\n",
              "      <td>550</td>\n",
              "      <td>1.0</td>\n",
              "      <td>1.0</td>\n",
              "      <td>17.00</td>\n",
              "    </tr>\n",
              "  </tbody>\n",
              "</table>\n",
              "<p>5502 rows × 9 columns</p>\n",
              "</div>"
            ],
            "text/plain": [
              "       area_type  availability  location  size society total_sqft  bath  \\\n",
              "2              1             0      1220    17     NaN       1440   2.0   \n",
              "4              0             0       736    14     NaN       1200   2.0   \n",
              "8              0             0       821    17     NaN       1310   3.0   \n",
              "9              2             0       445    25     NaN       1020   6.0   \n",
              "10             0             2      1297    17     NaN       1800   2.0   \n",
              "13             1             0       477    14     NaN       1100   2.0   \n",
              "19             0             0       810    14     NaN       1100   2.0   \n",
              "20             1             0       706     0     NaN        600   1.0   \n",
              "23             0             0       242    17     NaN       1767   3.0   \n",
              "25             0             2       811    17     NaN       1250   3.0   \n",
              "27             1             2      1297    17     NaN       1610   3.0   \n",
              "36             0             0       433    14     NaN       1070   2.0   \n",
              "38             0             0       334    17     NaN       1290   2.0   \n",
              "39             1             0      1220    14     NaN       1143   2.0   \n",
              "43             2             0      1306     1     NaN        660   1.0   \n",
              "45             2             0       505    29     NaN        600   9.0   \n",
              "48             2             0       642    15     NaN        800   1.0   \n",
              "49             1             0       538    14     NaN        869   2.0   \n",
              "58             2             0       857    25     NaN       1407   4.0   \n",
              "59             0             0       479    14     NaN        840   2.0   \n",
              "60             2             0      1191    18     NaN       4395   3.0   \n",
              "64             1             0       276    29     NaN       3000   8.0   \n",
              "65             0             0       406    14     NaN       1100   2.0   \n",
              "67             0             0       821    14     NaN       1220   2.0   \n",
              "68             2             0       381    29     NaN       1350   7.0   \n",
              "69             0             0       681    14     NaN       1005   2.0   \n",
              "70             2             0       417    18     NaN        500   3.0   \n",
              "75             0             0       735    14     NaN       1206   2.0   \n",
              "76             0             0       657    14     NaN       1150   2.0   \n",
              "78             1             0       696    14     NaN        460   1.0   \n",
              "...          ...           ...       ...   ...     ...        ...   ...   \n",
              "13246          1             0      1077    20     NaN       2758   4.0   \n",
              "13247          2             0        67    20     NaN       1200   5.0   \n",
              "13248          0             2      1077    14     NaN       1132   2.0   \n",
              "13250          1             0       542    17     NaN       1490   3.0   \n",
              "13254          1             0       742    14     NaN       1310   2.0   \n",
              "13256          0             0       741    14     NaN       1041   2.0   \n",
              "13261          2             0       524    18     NaN       2000   2.0   \n",
              "13263          1             0      1077    17     NaN       1380   2.0   \n",
              "13270          0             0      1113    17     NaN       1226   2.0   \n",
              "13273          0             0      1005     0     NaN        510   1.0   \n",
              "13275          2             0       735    20     NaN       1600   4.0   \n",
              "13277          2             0       752    27     NaN       1400   7.0   \n",
              "13279          2             0      1277    25     NaN       1200   5.0   \n",
              "13280          1             0      1076    17     NaN       1425   3.0   \n",
              "13281          2             0       825    23     NaN       1375   5.0   \n",
              "13288          0             2       795    14     NaN       1050   2.0   \n",
              "13291          2             2      1293     1     NaN        812   1.0   \n",
              "13296          0             0       358    14     NaN       1200   2.0   \n",
              "13300          2             0       551    23     NaN       1500   6.0   \n",
              "13301          0             0       736    17     NaN       1454   3.0   \n",
              "13302          0             0       137    14     NaN       1075   2.0   \n",
              "13303          2             0      1258    23     NaN        774   5.0   \n",
              "13305          3             0       561     0     NaN        500   1.0   \n",
              "13306          2             0      1016    20     NaN       1200   5.0   \n",
              "13307          1             0       271    17     NaN       1805   3.0   \n",
              "13310          0             0       995    14     NaN       1050   2.0   \n",
              "13311          2             0      1025    27     NaN       1500   9.0   \n",
              "13312          0             0       242    14     NaN       1262   2.0   \n",
              "13316          0             0      1040    19     NaN       3600   5.0   \n",
              "13319          0             0       406     0     NaN        550   1.0   \n",
              "\n",
              "       balcony   price  \n",
              "2          3.0   62.00  \n",
              "4          1.0   51.00  \n",
              "8          1.0   63.25  \n",
              "9          NaN  370.00  \n",
              "10         2.0   70.00  \n",
              "13         2.0   40.00  \n",
              "19         2.0   48.00  \n",
              "20         1.0   15.00  \n",
              "23         1.0  103.00  \n",
              "25         2.0   56.00  \n",
              "27         2.0   81.00  \n",
              "36         1.0   45.50  \n",
              "38         2.0   56.12  \n",
              "39         2.0   45.00  \n",
              "43         0.0   48.00  \n",
              "45         NaN  200.00  \n",
              "48         1.0  130.00  \n",
              "49         1.0   36.00  \n",
              "58         1.0  150.00  \n",
              "59         2.0   45.00  \n",
              "60         2.0  240.00  \n",
              "64         0.0  140.00  \n",
              "65         1.0   62.00  \n",
              "67         1.0   57.00  \n",
              "68         0.0   85.00  \n",
              "69         1.0   36.68  \n",
              "70         2.0  100.00  \n",
              "75         1.0   48.23  \n",
              "76         3.0   40.00  \n",
              "78         0.0   22.00  \n",
              "...        ...     ...  \n",
              "13246      1.0  240.00  \n",
              "13247      NaN  325.00  \n",
              "13248      1.0   70.00  \n",
              "13250      0.0   85.00  \n",
              "13254      2.0   53.00  \n",
              "13256      1.0   53.00  \n",
              "13261      2.0  360.00  \n",
              "13263      2.0   55.00  \n",
              "13270      2.0   60.00  \n",
              "13273      1.0   22.00  \n",
              "13275      2.0   45.00  \n",
              "13277      NaN  218.00  \n",
              "13279      NaN  130.00  \n",
              "13280      2.0   57.00  \n",
              "13281      1.0  125.00  \n",
              "13288      1.0   42.00  \n",
              "13291      0.0   26.00  \n",
              "13296      2.0  140.00  \n",
              "13300      2.0  145.00  \n",
              "13301      3.0   71.50  \n",
              "13302      2.0   48.00  \n",
              "13303      3.0   70.00  \n",
              "13305      3.0  220.00  \n",
              "13306      NaN  325.00  \n",
              "13307      3.0  134.00  \n",
              "13310      2.0   52.71  \n",
              "13311      2.0  250.00  \n",
              "13312      2.0   47.00  \n",
              "13316      NaN  400.00  \n",
              "13319      1.0   17.00  \n",
              "\n",
              "[5502 rows x 9 columns]"
            ]
          },
          "metadata": {
            "tags": []
          },
          "execution_count": 19
        }
      ]
    },
    {
      "metadata": {
        "id": "WJo6b336YykK",
        "colab_type": "code",
        "colab": {}
      },
      "cell_type": "code",
      "source": [
        "# Fill the null values with 'other'\n",
        "train_data['society'] = train_data.society.fillna('other')"
      ],
      "execution_count": 0,
      "outputs": []
    },
    {
      "metadata": {
        "id": "snD8BOeuZE-G",
        "colab_type": "code",
        "outputId": "a4a7d9b4-14a5-4e32-9a52-9b0e8fd93239",
        "colab": {
          "base_uri": "https://localhost:8080/",
          "height": 49
        }
      },
      "cell_type": "code",
      "source": [
        "train_data[~train_data.society.notnull()]"
      ],
      "execution_count": 0,
      "outputs": [
        {
          "output_type": "execute_result",
          "data": {
            "text/html": [
              "<div>\n",
              "<style scoped>\n",
              "    .dataframe tbody tr th:only-of-type {\n",
              "        vertical-align: middle;\n",
              "    }\n",
              "\n",
              "    .dataframe tbody tr th {\n",
              "        vertical-align: top;\n",
              "    }\n",
              "\n",
              "    .dataframe thead th {\n",
              "        text-align: right;\n",
              "    }\n",
              "</style>\n",
              "<table border=\"1\" class=\"dataframe\">\n",
              "  <thead>\n",
              "    <tr style=\"text-align: right;\">\n",
              "      <th></th>\n",
              "      <th>area_type</th>\n",
              "      <th>availability</th>\n",
              "      <th>location</th>\n",
              "      <th>size</th>\n",
              "      <th>society</th>\n",
              "      <th>total_sqft</th>\n",
              "      <th>bath</th>\n",
              "      <th>balcony</th>\n",
              "      <th>price</th>\n",
              "    </tr>\n",
              "  </thead>\n",
              "  <tbody>\n",
              "  </tbody>\n",
              "</table>\n",
              "</div>"
            ],
            "text/plain": [
              "Empty DataFrame\n",
              "Columns: [area_type, availability, location, size, society, total_sqft, bath, balcony, price]\n",
              "Index: []"
            ]
          },
          "metadata": {
            "tags": []
          },
          "execution_count": 21
        }
      ]
    },
    {
      "metadata": {
        "id": "x5axokRZZO6-",
        "colab_type": "code",
        "colab": {}
      },
      "cell_type": "code",
      "source": [
        "# convert categorical to numeric using LabelEncoder in column 'society'\n",
        "society_encoder = LabelEncoder()\n",
        "society_encoder.fit(train_data['society'].astype('str').append(test_data['society'].astype('str').fillna('Other')))\n",
        "train_data['society'] = society_encoder.transform(train_data['society'])"
      ],
      "execution_count": 0,
      "outputs": []
    },
    {
      "metadata": {
        "id": "tt6uE7D-Zcpn",
        "colab_type": "code",
        "outputId": "f2ebe7d4-7776-43e0-d8bb-c28b2f6f8813",
        "colab": {
          "base_uri": "https://localhost:8080/",
          "height": 206
        }
      },
      "cell_type": "code",
      "source": [
        "train_data.head()"
      ],
      "execution_count": 0,
      "outputs": [
        {
          "output_type": "execute_result",
          "data": {
            "text/html": [
              "<div>\n",
              "<style scoped>\n",
              "    .dataframe tbody tr th:only-of-type {\n",
              "        vertical-align: middle;\n",
              "    }\n",
              "\n",
              "    .dataframe tbody tr th {\n",
              "        vertical-align: top;\n",
              "    }\n",
              "\n",
              "    .dataframe thead th {\n",
              "        text-align: right;\n",
              "    }\n",
              "</style>\n",
              "<table border=\"1\" class=\"dataframe\">\n",
              "  <thead>\n",
              "    <tr style=\"text-align: right;\">\n",
              "      <th></th>\n",
              "      <th>area_type</th>\n",
              "      <th>availability</th>\n",
              "      <th>location</th>\n",
              "      <th>size</th>\n",
              "      <th>society</th>\n",
              "      <th>total_sqft</th>\n",
              "      <th>bath</th>\n",
              "      <th>balcony</th>\n",
              "      <th>price</th>\n",
              "    </tr>\n",
              "  </thead>\n",
              "  <tbody>\n",
              "    <tr>\n",
              "      <th>0</th>\n",
              "      <td>0</td>\n",
              "      <td>2</td>\n",
              "      <td>430</td>\n",
              "      <td>14</td>\n",
              "      <td>487</td>\n",
              "      <td>1056</td>\n",
              "      <td>2.0</td>\n",
              "      <td>1.0</td>\n",
              "      <td>39.07</td>\n",
              "    </tr>\n",
              "    <tr>\n",
              "      <th>1</th>\n",
              "      <td>2</td>\n",
              "      <td>0</td>\n",
              "      <td>325</td>\n",
              "      <td>20</td>\n",
              "      <td>2568</td>\n",
              "      <td>2600</td>\n",
              "      <td>5.0</td>\n",
              "      <td>3.0</td>\n",
              "      <td>120.00</td>\n",
              "    </tr>\n",
              "    <tr>\n",
              "      <th>2</th>\n",
              "      <td>1</td>\n",
              "      <td>0</td>\n",
              "      <td>1220</td>\n",
              "      <td>17</td>\n",
              "      <td>2833</td>\n",
              "      <td>1440</td>\n",
              "      <td>2.0</td>\n",
              "      <td>3.0</td>\n",
              "      <td>62.00</td>\n",
              "    </tr>\n",
              "    <tr>\n",
              "      <th>3</th>\n",
              "      <td>0</td>\n",
              "      <td>0</td>\n",
              "      <td>778</td>\n",
              "      <td>17</td>\n",
              "      <td>2302</td>\n",
              "      <td>1521</td>\n",
              "      <td>3.0</td>\n",
              "      <td>1.0</td>\n",
              "      <td>95.00</td>\n",
              "    </tr>\n",
              "    <tr>\n",
              "      <th>4</th>\n",
              "      <td>0</td>\n",
              "      <td>0</td>\n",
              "      <td>736</td>\n",
              "      <td>14</td>\n",
              "      <td>2833</td>\n",
              "      <td>1200</td>\n",
              "      <td>2.0</td>\n",
              "      <td>1.0</td>\n",
              "      <td>51.00</td>\n",
              "    </tr>\n",
              "  </tbody>\n",
              "</table>\n",
              "</div>"
            ],
            "text/plain": [
              "   area_type  availability  location  size  society total_sqft  bath  balcony  \\\n",
              "0          0             2       430    14      487       1056   2.0      1.0   \n",
              "1          2             0       325    20     2568       2600   5.0      3.0   \n",
              "2          1             0      1220    17     2833       1440   2.0      3.0   \n",
              "3          0             0       778    17     2302       1521   3.0      1.0   \n",
              "4          0             0       736    14     2833       1200   2.0      1.0   \n",
              "\n",
              "    price  \n",
              "0   39.07  \n",
              "1  120.00  \n",
              "2   62.00  \n",
              "3   95.00  \n",
              "4   51.00  "
            ]
          },
          "metadata": {
            "tags": []
          },
          "execution_count": 23
        }
      ]
    },
    {
      "metadata": {
        "id": "wXMTphxcZf9x",
        "colab_type": "code",
        "colab": {}
      },
      "cell_type": "code",
      "source": [
        "# preprocess the column 'totla_sqft'\n",
        "def preprocess_total_sqft(my_list):\n",
        "    if len(my_list) == 1:\n",
        "        \n",
        "        try:\n",
        "            return float(my_list[0])\n",
        "        except:\n",
        "            strings = ['Sq. Meter', 'Sq. Yards', 'Perch', 'Acres', 'Cents', 'Guntha', 'Grounds']\n",
        "            split_list = re.split('(\\d*.*\\d)', my_list[0])[1:]\n",
        "            area = float(split_list[0])\n",
        "            type_of_area = split_list[1]\n",
        "            \n",
        "            if type_of_area == 'Sq. Meter':\n",
        "                area_in_sqft = area * 10.7639\n",
        "            elif type_of_area == 'Sq. Yards':\n",
        "                area_in_sqft = area * 9.0\n",
        "            elif type_of_area == 'Perch':\n",
        "                area_in_sqft = area * 272.25\n",
        "            elif type_of_area == 'Acres':\n",
        "                area_in_sqft = area * 43560.0\n",
        "            elif type_of_area == 'Cents':\n",
        "                area_in_sqft = area * 435.61545\n",
        "            elif type_of_area == 'Guntha':\n",
        "                area_in_sqft = area * 1089.0\n",
        "            elif type_of_area == 'Grounds':\n",
        "                area_in_sqft = area * 2400.0\n",
        "            return float(area_in_sqft)\n",
        "        \n",
        "    else:\n",
        "        return (float(my_list[0]) + float(my_list[1]))/2.0"
      ],
      "execution_count": 0,
      "outputs": []
    },
    {
      "metadata": {
        "id": "rWpJD-WLZ9Ly",
        "colab_type": "code",
        "colab": {}
      },
      "cell_type": "code",
      "source": [
        "# As all the given values are not measured in 'square feet', we have to preprocess some of the values in the column.  \n",
        "# Some of them are also measured in square meters, square yards, perch, acres, cents, guntha and grounds.\n",
        "# So, convert all of them into square feet to make the data more consistent.\n",
        "\n",
        "train_data['total_sqft'] = train_data.total_sqft.str.split('-').apply(preprocess_total_sqft)"
      ],
      "execution_count": 0,
      "outputs": []
    },
    {
      "metadata": {
        "id": "MTcLDVlEsZAm",
        "colab_type": "code",
        "outputId": "da4d2d81-e61f-4581-948a-a11ff006be35",
        "colab": {
          "base_uri": "https://localhost:8080/",
          "height": 206
        }
      },
      "cell_type": "code",
      "source": [
        "train_data.head()"
      ],
      "execution_count": 0,
      "outputs": [
        {
          "output_type": "execute_result",
          "data": {
            "text/html": [
              "<div>\n",
              "<style scoped>\n",
              "    .dataframe tbody tr th:only-of-type {\n",
              "        vertical-align: middle;\n",
              "    }\n",
              "\n",
              "    .dataframe tbody tr th {\n",
              "        vertical-align: top;\n",
              "    }\n",
              "\n",
              "    .dataframe thead th {\n",
              "        text-align: right;\n",
              "    }\n",
              "</style>\n",
              "<table border=\"1\" class=\"dataframe\">\n",
              "  <thead>\n",
              "    <tr style=\"text-align: right;\">\n",
              "      <th></th>\n",
              "      <th>area_type</th>\n",
              "      <th>availability</th>\n",
              "      <th>location</th>\n",
              "      <th>size</th>\n",
              "      <th>society</th>\n",
              "      <th>total_sqft</th>\n",
              "      <th>bath</th>\n",
              "      <th>balcony</th>\n",
              "      <th>price</th>\n",
              "    </tr>\n",
              "  </thead>\n",
              "  <tbody>\n",
              "    <tr>\n",
              "      <th>0</th>\n",
              "      <td>0</td>\n",
              "      <td>2</td>\n",
              "      <td>430</td>\n",
              "      <td>14</td>\n",
              "      <td>487</td>\n",
              "      <td>1056.0</td>\n",
              "      <td>2.0</td>\n",
              "      <td>1.0</td>\n",
              "      <td>39.07</td>\n",
              "    </tr>\n",
              "    <tr>\n",
              "      <th>1</th>\n",
              "      <td>2</td>\n",
              "      <td>0</td>\n",
              "      <td>325</td>\n",
              "      <td>20</td>\n",
              "      <td>2568</td>\n",
              "      <td>2600.0</td>\n",
              "      <td>5.0</td>\n",
              "      <td>3.0</td>\n",
              "      <td>120.00</td>\n",
              "    </tr>\n",
              "    <tr>\n",
              "      <th>2</th>\n",
              "      <td>1</td>\n",
              "      <td>0</td>\n",
              "      <td>1220</td>\n",
              "      <td>17</td>\n",
              "      <td>2833</td>\n",
              "      <td>1440.0</td>\n",
              "      <td>2.0</td>\n",
              "      <td>3.0</td>\n",
              "      <td>62.00</td>\n",
              "    </tr>\n",
              "    <tr>\n",
              "      <th>3</th>\n",
              "      <td>0</td>\n",
              "      <td>0</td>\n",
              "      <td>778</td>\n",
              "      <td>17</td>\n",
              "      <td>2302</td>\n",
              "      <td>1521.0</td>\n",
              "      <td>3.0</td>\n",
              "      <td>1.0</td>\n",
              "      <td>95.00</td>\n",
              "    </tr>\n",
              "    <tr>\n",
              "      <th>4</th>\n",
              "      <td>0</td>\n",
              "      <td>0</td>\n",
              "      <td>736</td>\n",
              "      <td>14</td>\n",
              "      <td>2833</td>\n",
              "      <td>1200.0</td>\n",
              "      <td>2.0</td>\n",
              "      <td>1.0</td>\n",
              "      <td>51.00</td>\n",
              "    </tr>\n",
              "  </tbody>\n",
              "</table>\n",
              "</div>"
            ],
            "text/plain": [
              "   area_type  availability  location  size  society  total_sqft  bath  \\\n",
              "0          0             2       430    14      487      1056.0   2.0   \n",
              "1          2             0       325    20     2568      2600.0   5.0   \n",
              "2          1             0      1220    17     2833      1440.0   2.0   \n",
              "3          0             0       778    17     2302      1521.0   3.0   \n",
              "4          0             0       736    14     2833      1200.0   2.0   \n",
              "\n",
              "   balcony   price  \n",
              "0      1.0   39.07  \n",
              "1      3.0  120.00  \n",
              "2      3.0   62.00  \n",
              "3      1.0   95.00  \n",
              "4      1.0   51.00  "
            ]
          },
          "metadata": {
            "tags": []
          },
          "execution_count": 26
        }
      ]
    },
    {
      "metadata": {
        "id": "ODbmh5NEsdt4",
        "colab_type": "code",
        "colab": {}
      },
      "cell_type": "code",
      "source": [
        "# Preprocess the column 'bath'"
      ],
      "execution_count": 0,
      "outputs": []
    },
    {
      "metadata": {
        "id": "VtDecWEessFU",
        "colab_type": "code",
        "colab": {}
      },
      "cell_type": "code",
      "source": [
        "# There are many missing values (73) in the column 'bath'.\n",
        "# So, the missing values are filled by grouping the rows based on location and taking the mean of the column 'bath' in that location.\n",
        "# Even after doing this, there is a missing value. \n",
        "# This is because there is a row in which the location is unique(occurred only one time) and the value is NaN. \n",
        "# So, it cannot fill as there are no other values for bathrooms to find mean. \n",
        "# In this case, the missing values are filled with the mean of the whole column."
      ],
      "execution_count": 0,
      "outputs": []
    },
    {
      "metadata": {
        "id": "Nv44vWwfs12i",
        "colab_type": "code",
        "outputId": "ad944635-d329-411d-c426-4f61e748c33b",
        "colab": {
          "base_uri": "https://localhost:8080/",
          "height": 34
        }
      },
      "cell_type": "code",
      "source": [
        "train_data['bath'].isna().sum()"
      ],
      "execution_count": 0,
      "outputs": [
        {
          "output_type": "execute_result",
          "data": {
            "text/plain": [
              "73"
            ]
          },
          "metadata": {
            "tags": []
          },
          "execution_count": 29
        }
      ]
    },
    {
      "metadata": {
        "id": "cEsMd4Fcs5Wc",
        "colab_type": "code",
        "colab": {}
      },
      "cell_type": "code",
      "source": [
        "column_bath = train_data.groupby('location')['bath'].transform(lambda x: x.fillna(x.mean()))"
      ],
      "execution_count": 0,
      "outputs": []
    },
    {
      "metadata": {
        "id": "1qHQtdoxtGzm",
        "colab_type": "code",
        "outputId": "9c727e91-8371-4b00-d8ee-e31a5bcb200c",
        "colab": {
          "base_uri": "https://localhost:8080/",
          "height": 52
        }
      },
      "cell_type": "code",
      "source": [
        "column_bath[~column_bath.notnull()]"
      ],
      "execution_count": 0,
      "outputs": [
        {
          "output_type": "execute_result",
          "data": {
            "text/plain": [
              "1775   NaN\n",
              "Name: bath, dtype: float64"
            ]
          },
          "metadata": {
            "tags": []
          },
          "execution_count": 31
        }
      ]
    },
    {
      "metadata": {
        "id": "_xaoZ3uCtKZA",
        "colab_type": "code",
        "outputId": "c41ae70c-15bb-4675-b0bd-723cd3dc80c9",
        "colab": {
          "base_uri": "https://localhost:8080/",
          "height": 34
        }
      },
      "cell_type": "code",
      "source": [
        "column_bath = column_bath.fillna(column_bath.mean())\n",
        "column_bath.isna().sum()"
      ],
      "execution_count": 0,
      "outputs": [
        {
          "output_type": "execute_result",
          "data": {
            "text/plain": [
              "0"
            ]
          },
          "metadata": {
            "tags": []
          },
          "execution_count": 32
        }
      ]
    },
    {
      "metadata": {
        "id": "DGFP1lg7tNr1",
        "colab_type": "code",
        "colab": {}
      },
      "cell_type": "code",
      "source": [
        "train_data['bath'] = column_bath"
      ],
      "execution_count": 0,
      "outputs": []
    },
    {
      "metadata": {
        "id": "_V_dbSactRPs",
        "colab_type": "code",
        "outputId": "d082e8c4-78ba-4efc-8174-e648645efa1e",
        "colab": {
          "base_uri": "https://localhost:8080/",
          "height": 206
        }
      },
      "cell_type": "code",
      "source": [
        "train_data.head()"
      ],
      "execution_count": 0,
      "outputs": [
        {
          "output_type": "execute_result",
          "data": {
            "text/html": [
              "<div>\n",
              "<style scoped>\n",
              "    .dataframe tbody tr th:only-of-type {\n",
              "        vertical-align: middle;\n",
              "    }\n",
              "\n",
              "    .dataframe tbody tr th {\n",
              "        vertical-align: top;\n",
              "    }\n",
              "\n",
              "    .dataframe thead th {\n",
              "        text-align: right;\n",
              "    }\n",
              "</style>\n",
              "<table border=\"1\" class=\"dataframe\">\n",
              "  <thead>\n",
              "    <tr style=\"text-align: right;\">\n",
              "      <th></th>\n",
              "      <th>area_type</th>\n",
              "      <th>availability</th>\n",
              "      <th>location</th>\n",
              "      <th>size</th>\n",
              "      <th>society</th>\n",
              "      <th>total_sqft</th>\n",
              "      <th>bath</th>\n",
              "      <th>balcony</th>\n",
              "      <th>price</th>\n",
              "    </tr>\n",
              "  </thead>\n",
              "  <tbody>\n",
              "    <tr>\n",
              "      <th>0</th>\n",
              "      <td>0</td>\n",
              "      <td>2</td>\n",
              "      <td>430</td>\n",
              "      <td>14</td>\n",
              "      <td>487</td>\n",
              "      <td>1056.0</td>\n",
              "      <td>2.0</td>\n",
              "      <td>1.0</td>\n",
              "      <td>39.07</td>\n",
              "    </tr>\n",
              "    <tr>\n",
              "      <th>1</th>\n",
              "      <td>2</td>\n",
              "      <td>0</td>\n",
              "      <td>325</td>\n",
              "      <td>20</td>\n",
              "      <td>2568</td>\n",
              "      <td>2600.0</td>\n",
              "      <td>5.0</td>\n",
              "      <td>3.0</td>\n",
              "      <td>120.00</td>\n",
              "    </tr>\n",
              "    <tr>\n",
              "      <th>2</th>\n",
              "      <td>1</td>\n",
              "      <td>0</td>\n",
              "      <td>1220</td>\n",
              "      <td>17</td>\n",
              "      <td>2833</td>\n",
              "      <td>1440.0</td>\n",
              "      <td>2.0</td>\n",
              "      <td>3.0</td>\n",
              "      <td>62.00</td>\n",
              "    </tr>\n",
              "    <tr>\n",
              "      <th>3</th>\n",
              "      <td>0</td>\n",
              "      <td>0</td>\n",
              "      <td>778</td>\n",
              "      <td>17</td>\n",
              "      <td>2302</td>\n",
              "      <td>1521.0</td>\n",
              "      <td>3.0</td>\n",
              "      <td>1.0</td>\n",
              "      <td>95.00</td>\n",
              "    </tr>\n",
              "    <tr>\n",
              "      <th>4</th>\n",
              "      <td>0</td>\n",
              "      <td>0</td>\n",
              "      <td>736</td>\n",
              "      <td>14</td>\n",
              "      <td>2833</td>\n",
              "      <td>1200.0</td>\n",
              "      <td>2.0</td>\n",
              "      <td>1.0</td>\n",
              "      <td>51.00</td>\n",
              "    </tr>\n",
              "  </tbody>\n",
              "</table>\n",
              "</div>"
            ],
            "text/plain": [
              "   area_type  availability  location  size  society  total_sqft  bath  \\\n",
              "0          0             2       430    14      487      1056.0   2.0   \n",
              "1          2             0       325    20     2568      2600.0   5.0   \n",
              "2          1             0      1220    17     2833      1440.0   2.0   \n",
              "3          0             0       778    17     2302      1521.0   3.0   \n",
              "4          0             0       736    14     2833      1200.0   2.0   \n",
              "\n",
              "   balcony   price  \n",
              "0      1.0   39.07  \n",
              "1      3.0  120.00  \n",
              "2      3.0   62.00  \n",
              "3      1.0   95.00  \n",
              "4      1.0   51.00  "
            ]
          },
          "metadata": {
            "tags": []
          },
          "execution_count": 34
        }
      ]
    },
    {
      "metadata": {
        "id": "b-QPqD8ptTLx",
        "colab_type": "code",
        "colab": {}
      },
      "cell_type": "code",
      "source": [
        "# Preprocess the column 'balcony'"
      ],
      "execution_count": 0,
      "outputs": []
    },
    {
      "metadata": {
        "id": "YDpDn-_Qta5D",
        "colab_type": "code",
        "colab": {}
      },
      "cell_type": "code",
      "source": [
        "# There are many missing values (609) in the column 'bath'.\n",
        "# So, the missing values are filled by grouping the rows based on location and taking the mean of the column 'balcony' in that location.\n",
        "# Even after doing this, there are missing value in some rows. \n",
        "# This is because there are rows in which the location is unique(occurred only one time) and the value is NaN. \n",
        "# So, it cannot fill as there are no other values for balcony to find mean. \n",
        "# In this case, the missing values are filled with the mean of the whole column."
      ],
      "execution_count": 0,
      "outputs": []
    },
    {
      "metadata": {
        "id": "pRaWAPFitkUT",
        "colab_type": "code",
        "outputId": "282be160-4771-4de9-edd5-73fef141e2c2",
        "colab": {
          "base_uri": "https://localhost:8080/",
          "height": 34
        }
      },
      "cell_type": "code",
      "source": [
        "train_data.balcony.isna().sum()"
      ],
      "execution_count": 0,
      "outputs": [
        {
          "output_type": "execute_result",
          "data": {
            "text/plain": [
              "609"
            ]
          },
          "metadata": {
            "tags": []
          },
          "execution_count": 37
        }
      ]
    },
    {
      "metadata": {
        "id": "RqQZFdLutovx",
        "colab_type": "code",
        "outputId": "a2e2cfde-6dc7-483b-ceca-73877275734a",
        "colab": {
          "base_uri": "https://localhost:8080/",
          "height": 104
        }
      },
      "cell_type": "code",
      "source": [
        "train_data.balcony.value_counts()"
      ],
      "execution_count": 0,
      "outputs": [
        {
          "output_type": "execute_result",
          "data": {
            "text/plain": [
              "2.0    5113\n",
              "1.0    4897\n",
              "3.0    1672\n",
              "0.0    1029\n",
              "Name: balcony, dtype: int64"
            ]
          },
          "metadata": {
            "tags": []
          },
          "execution_count": 38
        }
      ]
    },
    {
      "metadata": {
        "id": "ZfBhhvZKtrKP",
        "colab_type": "code",
        "colab": {}
      },
      "cell_type": "code",
      "source": [
        "column_balcony = train_data.groupby('location')['balcony'].transform(lambda x: x.fillna(x.mean()))\n",
        "column_balcony = column_balcony.fillna(column_balcony.mean())\n"
      ],
      "execution_count": 0,
      "outputs": []
    },
    {
      "metadata": {
        "id": "7GH33WDRt1B3",
        "colab_type": "code",
        "colab": {}
      },
      "cell_type": "code",
      "source": [
        "train_data['balcony'] = column_balcony"
      ],
      "execution_count": 0,
      "outputs": []
    },
    {
      "metadata": {
        "id": "6XbjIVVHt2x9",
        "colab_type": "code",
        "outputId": "306b7483-534a-4250-b484-d9d75772e1c7",
        "colab": {
          "base_uri": "https://localhost:8080/",
          "height": 34
        }
      },
      "cell_type": "code",
      "source": [
        "train_data.balcony.isna().sum()"
      ],
      "execution_count": 0,
      "outputs": [
        {
          "output_type": "execute_result",
          "data": {
            "text/plain": [
              "0"
            ]
          },
          "metadata": {
            "tags": []
          },
          "execution_count": 41
        }
      ]
    },
    {
      "metadata": {
        "id": "Br1085IvuBJT",
        "colab_type": "code",
        "outputId": "8bfbfd7d-e93c-4bf9-ab49-1cd9ae98eb7a",
        "colab": {
          "base_uri": "https://localhost:8080/",
          "height": 206
        }
      },
      "cell_type": "code",
      "source": [
        "train_data.head()\n"
      ],
      "execution_count": 0,
      "outputs": [
        {
          "output_type": "execute_result",
          "data": {
            "text/html": [
              "<div>\n",
              "<style scoped>\n",
              "    .dataframe tbody tr th:only-of-type {\n",
              "        vertical-align: middle;\n",
              "    }\n",
              "\n",
              "    .dataframe tbody tr th {\n",
              "        vertical-align: top;\n",
              "    }\n",
              "\n",
              "    .dataframe thead th {\n",
              "        text-align: right;\n",
              "    }\n",
              "</style>\n",
              "<table border=\"1\" class=\"dataframe\">\n",
              "  <thead>\n",
              "    <tr style=\"text-align: right;\">\n",
              "      <th></th>\n",
              "      <th>area_type</th>\n",
              "      <th>availability</th>\n",
              "      <th>location</th>\n",
              "      <th>size</th>\n",
              "      <th>society</th>\n",
              "      <th>total_sqft</th>\n",
              "      <th>bath</th>\n",
              "      <th>balcony</th>\n",
              "      <th>price</th>\n",
              "    </tr>\n",
              "  </thead>\n",
              "  <tbody>\n",
              "    <tr>\n",
              "      <th>0</th>\n",
              "      <td>0</td>\n",
              "      <td>2</td>\n",
              "      <td>430</td>\n",
              "      <td>14</td>\n",
              "      <td>487</td>\n",
              "      <td>1056.0</td>\n",
              "      <td>2.0</td>\n",
              "      <td>1.0</td>\n",
              "      <td>39.07</td>\n",
              "    </tr>\n",
              "    <tr>\n",
              "      <th>1</th>\n",
              "      <td>2</td>\n",
              "      <td>0</td>\n",
              "      <td>325</td>\n",
              "      <td>20</td>\n",
              "      <td>2568</td>\n",
              "      <td>2600.0</td>\n",
              "      <td>5.0</td>\n",
              "      <td>3.0</td>\n",
              "      <td>120.00</td>\n",
              "    </tr>\n",
              "    <tr>\n",
              "      <th>2</th>\n",
              "      <td>1</td>\n",
              "      <td>0</td>\n",
              "      <td>1220</td>\n",
              "      <td>17</td>\n",
              "      <td>2833</td>\n",
              "      <td>1440.0</td>\n",
              "      <td>2.0</td>\n",
              "      <td>3.0</td>\n",
              "      <td>62.00</td>\n",
              "    </tr>\n",
              "    <tr>\n",
              "      <th>3</th>\n",
              "      <td>0</td>\n",
              "      <td>0</td>\n",
              "      <td>778</td>\n",
              "      <td>17</td>\n",
              "      <td>2302</td>\n",
              "      <td>1521.0</td>\n",
              "      <td>3.0</td>\n",
              "      <td>1.0</td>\n",
              "      <td>95.00</td>\n",
              "    </tr>\n",
              "    <tr>\n",
              "      <th>4</th>\n",
              "      <td>0</td>\n",
              "      <td>0</td>\n",
              "      <td>736</td>\n",
              "      <td>14</td>\n",
              "      <td>2833</td>\n",
              "      <td>1200.0</td>\n",
              "      <td>2.0</td>\n",
              "      <td>1.0</td>\n",
              "      <td>51.00</td>\n",
              "    </tr>\n",
              "  </tbody>\n",
              "</table>\n",
              "</div>"
            ],
            "text/plain": [
              "   area_type  availability  location  size  society  total_sqft  bath  \\\n",
              "0          0             2       430    14      487      1056.0   2.0   \n",
              "1          2             0       325    20     2568      2600.0   5.0   \n",
              "2          1             0      1220    17     2833      1440.0   2.0   \n",
              "3          0             0       778    17     2302      1521.0   3.0   \n",
              "4          0             0       736    14     2833      1200.0   2.0   \n",
              "\n",
              "   balcony   price  \n",
              "0      1.0   39.07  \n",
              "1      3.0  120.00  \n",
              "2      3.0   62.00  \n",
              "3      1.0   95.00  \n",
              "4      1.0   51.00  "
            ]
          },
          "metadata": {
            "tags": []
          },
          "execution_count": 42
        }
      ]
    },
    {
      "metadata": {
        "id": "hCn28FSauTOv",
        "colab_type": "code",
        "colab": {}
      },
      "cell_type": "code",
      "source": [
        "# Seprate data to the input and output data to train the model\n",
        "columns = train_data.columns\n",
        "X_train = train_data[columns[:-1]]\n",
        "y_train = train_data[columns[-1]]"
      ],
      "execution_count": 0,
      "outputs": []
    },
    {
      "metadata": {
        "id": "4nAWe2X_uiN3",
        "colab_type": "code",
        "colab": {}
      },
      "cell_type": "code",
      "source": [
        ""
      ],
      "execution_count": 0,
      "outputs": []
    },
    {
      "metadata": {
        "id": "BB2YQaikup9v",
        "colab_type": "text"
      },
      "cell_type": "markdown",
      "source": [
        "# Preprocess the test data"
      ]
    },
    {
      "metadata": {
        "id": "RUp_NGalutWu",
        "colab_type": "code",
        "outputId": "ce982608-51f2-4c6d-d197-4c23c04f35b3",
        "colab": {
          "base_uri": "https://localhost:8080/",
          "height": 191
        }
      },
      "cell_type": "code",
      "source": [
        "# We have to handle missing values in the test data as it has alot of missing values.\n",
        "test_data.isna().sum()"
      ],
      "execution_count": 0,
      "outputs": [
        {
          "output_type": "execute_result",
          "data": {
            "text/plain": [
              "area_type          0\n",
              "availability       0\n",
              "location           0\n",
              "size               2\n",
              "society          626\n",
              "total_sqft         0\n",
              "bath               7\n",
              "balcony           69\n",
              "price           1480\n",
              "dtype: int64"
            ]
          },
          "metadata": {
            "tags": []
          },
          "execution_count": 270
        }
      ]
    },
    {
      "metadata": {
        "id": "3E0pW4aduzIc",
        "colab_type": "code",
        "outputId": "7f3ab3ac-e190-482a-d7bb-1519f6ad232d",
        "colab": {
          "base_uri": "https://localhost:8080/",
          "height": 206
        }
      },
      "cell_type": "code",
      "source": [
        "test_data.head()"
      ],
      "execution_count": 0,
      "outputs": [
        {
          "output_type": "execute_result",
          "data": {
            "text/html": [
              "<div>\n",
              "<style scoped>\n",
              "    .dataframe tbody tr th:only-of-type {\n",
              "        vertical-align: middle;\n",
              "    }\n",
              "\n",
              "    .dataframe tbody tr th {\n",
              "        vertical-align: top;\n",
              "    }\n",
              "\n",
              "    .dataframe thead th {\n",
              "        text-align: right;\n",
              "    }\n",
              "</style>\n",
              "<table border=\"1\" class=\"dataframe\">\n",
              "  <thead>\n",
              "    <tr style=\"text-align: right;\">\n",
              "      <th></th>\n",
              "      <th>area_type</th>\n",
              "      <th>availability</th>\n",
              "      <th>location</th>\n",
              "      <th>size</th>\n",
              "      <th>society</th>\n",
              "      <th>total_sqft</th>\n",
              "      <th>bath</th>\n",
              "      <th>balcony</th>\n",
              "      <th>price</th>\n",
              "    </tr>\n",
              "  </thead>\n",
              "  <tbody>\n",
              "    <tr>\n",
              "      <th>0</th>\n",
              "      <td>0</td>\n",
              "      <td>0</td>\n",
              "      <td>95</td>\n",
              "      <td>5</td>\n",
              "      <td>405</td>\n",
              "      <td>1225.0</td>\n",
              "      <td>2.0</td>\n",
              "      <td>2.0</td>\n",
              "      <td>NaN</td>\n",
              "    </tr>\n",
              "    <tr>\n",
              "      <th>1</th>\n",
              "      <td>2</td>\n",
              "      <td>0</td>\n",
              "      <td>30</td>\n",
              "      <td>20</td>\n",
              "      <td>306</td>\n",
              "      <td>2400.0</td>\n",
              "      <td>9.0</td>\n",
              "      <td>2.0</td>\n",
              "      <td>NaN</td>\n",
              "    </tr>\n",
              "    <tr>\n",
              "      <th>2</th>\n",
              "      <td>2</td>\n",
              "      <td>2</td>\n",
              "      <td>185</td>\n",
              "      <td>10</td>\n",
              "      <td>442</td>\n",
              "      <td>1650.0</td>\n",
              "      <td>5.0</td>\n",
              "      <td>2.0</td>\n",
              "      <td>NaN</td>\n",
              "    </tr>\n",
              "    <tr>\n",
              "      <th>3</th>\n",
              "      <td>0</td>\n",
              "      <td>0</td>\n",
              "      <td>269</td>\n",
              "      <td>7</td>\n",
              "      <td>590</td>\n",
              "      <td>1322.0</td>\n",
              "      <td>3.0</td>\n",
              "      <td>1.0</td>\n",
              "      <td>NaN</td>\n",
              "    </tr>\n",
              "    <tr>\n",
              "      <th>4</th>\n",
              "      <td>0</td>\n",
              "      <td>0</td>\n",
              "      <td>274</td>\n",
              "      <td>5</td>\n",
              "      <td>26</td>\n",
              "      <td>1161.0</td>\n",
              "      <td>2.0</td>\n",
              "      <td>1.0</td>\n",
              "      <td>NaN</td>\n",
              "    </tr>\n",
              "  </tbody>\n",
              "</table>\n",
              "</div>"
            ],
            "text/plain": [
              "   area_type  availability  location  size  society  total_sqft  bath  \\\n",
              "0          0             0        95     5      405      1225.0   2.0   \n",
              "1          2             0        30    20      306      2400.0   9.0   \n",
              "2          2             2       185    10      442      1650.0   5.0   \n",
              "3          0             0       269     7      590      1322.0   3.0   \n",
              "4          0             0       274     5       26      1161.0   2.0   \n",
              "\n",
              "   balcony  price  \n",
              "0      2.0    NaN  \n",
              "1      2.0    NaN  \n",
              "2      2.0    NaN  \n",
              "3      1.0    NaN  \n",
              "4      1.0    NaN  "
            ]
          },
          "metadata": {
            "tags": []
          },
          "execution_count": 282
        }
      ]
    },
    {
      "metadata": {
        "id": "KtczX2qqu3Qy",
        "colab_type": "code",
        "outputId": "da3fdef8-6acd-4a50-c82a-1bce3ec5281e",
        "colab": {
          "base_uri": "https://localhost:8080/",
          "height": 49
        }
      },
      "cell_type": "code",
      "source": [
        "test_data.loc[test_data.society == 'NaN']"
      ],
      "execution_count": 0,
      "outputs": [
        {
          "output_type": "execute_result",
          "data": {
            "text/html": [
              "<div>\n",
              "<style scoped>\n",
              "    .dataframe tbody tr th:only-of-type {\n",
              "        vertical-align: middle;\n",
              "    }\n",
              "\n",
              "    .dataframe tbody tr th {\n",
              "        vertical-align: top;\n",
              "    }\n",
              "\n",
              "    .dataframe thead th {\n",
              "        text-align: right;\n",
              "    }\n",
              "</style>\n",
              "<table border=\"1\" class=\"dataframe\">\n",
              "  <thead>\n",
              "    <tr style=\"text-align: right;\">\n",
              "      <th></th>\n",
              "      <th>area_type</th>\n",
              "      <th>availability</th>\n",
              "      <th>location</th>\n",
              "      <th>size</th>\n",
              "      <th>society</th>\n",
              "      <th>total_sqft</th>\n",
              "      <th>bath</th>\n",
              "      <th>balcony</th>\n",
              "      <th>price</th>\n",
              "    </tr>\n",
              "  </thead>\n",
              "  <tbody>\n",
              "  </tbody>\n",
              "</table>\n",
              "</div>"
            ],
            "text/plain": [
              "Empty DataFrame\n",
              "Columns: [area_type, availability, location, size, society, total_sqft, bath, balcony, price]\n",
              "Index: []"
            ]
          },
          "metadata": {
            "tags": []
          },
          "execution_count": 272
        }
      ]
    },
    {
      "metadata": {
        "id": "MdRdlUGIELP9",
        "colab_type": "code",
        "outputId": "ef6341e4-84e6-42c8-ca99-9b22c70679e3",
        "colab": {
          "base_uri": "https://localhost:8080/",
          "height": 191
        }
      },
      "cell_type": "code",
      "source": [
        "test_data.isna().sum()"
      ],
      "execution_count": 0,
      "outputs": [
        {
          "output_type": "execute_result",
          "data": {
            "text/plain": [
              "area_type          0\n",
              "availability       0\n",
              "location           0\n",
              "size               2\n",
              "society          626\n",
              "total_sqft         0\n",
              "bath               7\n",
              "balcony           69\n",
              "price           1480\n",
              "dtype: int64"
            ]
          },
          "metadata": {
            "tags": []
          },
          "execution_count": 273
        }
      ]
    },
    {
      "metadata": {
        "id": "lfv4hxqpu5nv",
        "colab_type": "code",
        "colab": {}
      },
      "cell_type": "code",
      "source": [
        "test_data['area_type'] = test_data.area_type.map(replace_area_type)"
      ],
      "execution_count": 0,
      "outputs": []
    },
    {
      "metadata": {
        "id": "z4vkKn7fEo_J",
        "colab_type": "code",
        "colab": {}
      },
      "cell_type": "code",
      "source": [
        "test_data['availability'] = test_data.availability.apply(replace_availability)\n"
      ],
      "execution_count": 0,
      "outputs": []
    },
    {
      "metadata": {
        "id": "w_EsdltfErw6",
        "colab_type": "code",
        "colab": {}
      },
      "cell_type": "code",
      "source": [
        "train_data['location'] = train_data['location'].fillna('Location not provided')\n",
        "\n",
        "location_encoder = LabelEncoder()\n",
        "location_encoder.fit(test_data['location'])\n",
        "test_data['location'] = location_encoder.transform(test_data['location'].astype('str'))"
      ],
      "execution_count": 0,
      "outputs": []
    },
    {
      "metadata": {
        "id": "gskovYyPEw20",
        "colab_type": "code",
        "colab": {}
      },
      "cell_type": "code",
      "source": [
        "size_encoder = LabelEncoder()\n",
        "size_encoder.fit(test_data['size'].astype('str'))\n",
        "\n",
        "test_data['size'] = size_encoder.transform(test_data['size'].astype('str'))"
      ],
      "execution_count": 0,
      "outputs": []
    },
    {
      "metadata": {
        "id": "aN61N4UjF28n",
        "colab_type": "code",
        "colab": {}
      },
      "cell_type": "code",
      "source": [
        "test_data['society'] = test_data['society'].fillna('Other')\n",
        "\n",
        "society_encoder = LabelEncoder()\n",
        "society_encoder.fit(test_data['society'])\n",
        "test_data['society'] = society_encoder.transform(test_data['society'])"
      ],
      "execution_count": 0,
      "outputs": []
    },
    {
      "metadata": {
        "id": "pBbrW9mIF6x2",
        "colab_type": "code",
        "colab": {}
      },
      "cell_type": "code",
      "source": [
        "test_data['total_sqft'] = test_data.total_sqft.str.split('-').apply(preprocess_total_sqft)"
      ],
      "execution_count": 0,
      "outputs": []
    },
    {
      "metadata": {
        "id": "YWws21hVI1V2",
        "colab_type": "code",
        "colab": {}
      },
      "cell_type": "code",
      "source": [
        "test_data['bath'] = test_data['bath'].fillna(train_data.bath.mean())"
      ],
      "execution_count": 0,
      "outputs": []
    },
    {
      "metadata": {
        "id": "uSip-Lo4I4N7",
        "colab_type": "code",
        "colab": {}
      },
      "cell_type": "code",
      "source": [
        "test_data['balcony'] = test_data['balcony'].fillna(train_data.balcony.mean())"
      ],
      "execution_count": 0,
      "outputs": []
    },
    {
      "metadata": {
        "id": "2oMACVXDI66P",
        "colab_type": "code",
        "colab": {}
      },
      "cell_type": "code",
      "source": [
        ""
      ],
      "execution_count": 0,
      "outputs": []
    },
    {
      "metadata": {
        "id": "HhfBhHT6u9ED",
        "colab_type": "code",
        "colab": {}
      },
      "cell_type": "code",
      "source": [
        "y_test = test_data.price\n",
        "\n",
        "X_test = test_data\n",
        "X_test = X_test.drop(columns='price')\n"
      ],
      "execution_count": 0,
      "outputs": []
    },
    {
      "metadata": {
        "id": "DLJbRfE1vHX7",
        "colab_type": "code",
        "colab": {}
      },
      "cell_type": "code",
      "source": [
        ""
      ],
      "execution_count": 0,
      "outputs": []
    },
    {
      "metadata": {
        "id": "MBrCho_SvJAJ",
        "colab_type": "text"
      },
      "cell_type": "markdown",
      "source": [
        "# Modeling"
      ]
    },
    {
      "metadata": {
        "id": "cTwi6cgkvKyg",
        "colab_type": "code",
        "colab": {}
      },
      "cell_type": "code",
      "source": [
        "rfRegressor = RandomForestRegressor()\n",
        "model = rfRegressor.fit(X_train, y_train)"
      ],
      "execution_count": 0,
      "outputs": []
    },
    {
      "metadata": {
        "id": "be8xXP4xJTkw",
        "colab_type": "code",
        "colab": {}
      },
      "cell_type": "code",
      "source": [
        "# lreg = LinearRegression(normalize=True)\n",
        "# model = lreg.fit(X_train, y_train)"
      ],
      "execution_count": 0,
      "outputs": []
    },
    {
      "metadata": {
        "id": "lzAaREeaJbqU",
        "colab_type": "code",
        "colab": {}
      },
      "cell_type": "code",
      "source": [
        "# dtReg = DecisionTreeRegressor()\n",
        "# model = dtReg.fit(X_train, y_train)"
      ],
      "execution_count": 0,
      "outputs": []
    },
    {
      "metadata": {
        "id": "oyb3Lq7dJcLG",
        "colab_type": "code",
        "colab": {}
      },
      "cell_type": "code",
      "source": [
        "# from catboost import CatBoostRegressor\n",
        "# model=CatBoostRegressor(iterations=10000, depth=5, learning_rate=0.03, loss_function='RMSE')\n",
        "# model.fit(X_train, y_train)"
      ],
      "execution_count": 0,
      "outputs": []
    },
    {
      "metadata": {
        "id": "eqXPnQLYJkjf",
        "colab_type": "code",
        "colab": {}
      },
      "cell_type": "code",
      "source": [
        "y_pred = model.predict(X_test)"
      ],
      "execution_count": 0,
      "outputs": []
    },
    {
      "metadata": {
        "id": "WIizo4ggJ2Lr",
        "colab_type": "code",
        "colab": {}
      },
      "cell_type": "code",
      "source": [
        "out_df = pd.DataFrame({'price': y_pred})"
      ],
      "execution_count": 0,
      "outputs": []
    },
    {
      "metadata": {
        "id": "wLyXaGnsJ2u7",
        "colab_type": "code",
        "colab": {}
      },
      "cell_type": "code",
      "source": [
        "# out_df.to_excel('predictions.xlsx', index=False)\n",
        "out_df.to_csv('predictions.csv', index=False)"
      ],
      "execution_count": 0,
      "outputs": []
    },
    {
      "metadata": {
        "id": "1BD0EFkWN46H",
        "colab_type": "code",
        "colab": {}
      },
      "cell_type": "code",
      "source": [
        "prediction_file = pd.read_csv('predictions.csv')"
      ],
      "execution_count": 0,
      "outputs": []
    },
    {
      "metadata": {
        "id": "W8j-SfJsOBp2",
        "colab_type": "code",
        "outputId": "4ae1c047-2543-464c-8bd3-954969ce0c0b",
        "colab": {
          "base_uri": "https://localhost:8080/",
          "height": 206
        }
      },
      "cell_type": "code",
      "source": [
        "prediction_file.head()"
      ],
      "execution_count": 0,
      "outputs": [
        {
          "output_type": "execute_result",
          "data": {
            "text/html": [
              "<div>\n",
              "<style scoped>\n",
              "    .dataframe tbody tr th:only-of-type {\n",
              "        vertical-align: middle;\n",
              "    }\n",
              "\n",
              "    .dataframe tbody tr th {\n",
              "        vertical-align: top;\n",
              "    }\n",
              "\n",
              "    .dataframe thead th {\n",
              "        text-align: right;\n",
              "    }\n",
              "</style>\n",
              "<table border=\"1\" class=\"dataframe\">\n",
              "  <thead>\n",
              "    <tr style=\"text-align: right;\">\n",
              "      <th></th>\n",
              "      <th>price</th>\n",
              "    </tr>\n",
              "  </thead>\n",
              "  <tbody>\n",
              "    <tr>\n",
              "      <th>0</th>\n",
              "      <td>62.500000</td>\n",
              "    </tr>\n",
              "    <tr>\n",
              "      <th>1</th>\n",
              "      <td>342.500000</td>\n",
              "    </tr>\n",
              "    <tr>\n",
              "      <th>2</th>\n",
              "      <td>155.700000</td>\n",
              "    </tr>\n",
              "    <tr>\n",
              "      <th>3</th>\n",
              "      <td>83.422000</td>\n",
              "    </tr>\n",
              "    <tr>\n",
              "      <th>4</th>\n",
              "      <td>53.956333</td>\n",
              "    </tr>\n",
              "  </tbody>\n",
              "</table>\n",
              "</div>"
            ],
            "text/plain": [
              "        price\n",
              "0   62.500000\n",
              "1  342.500000\n",
              "2  155.700000\n",
              "3   83.422000\n",
              "4   53.956333"
            ]
          },
          "metadata": {
            "tags": []
          },
          "execution_count": 260
        }
      ]
    },
    {
      "metadata": {
        "id": "GwSs00OJVNUW",
        "colab_type": "text"
      },
      "cell_type": "markdown",
      "source": [
        "# Checking Mean Absolute Error"
      ]
    },
    {
      "metadata": {
        "id": "EfFybZQjPB2M",
        "colab_type": "code",
        "outputId": "d67b5ec2-4a33-4c95-a231-e99f6f11fa0f",
        "colab": {
          "base_uri": "https://localhost:8080/",
          "height": 159
        }
      },
      "cell_type": "code",
      "source": [
        "columns = train_data.columns\n",
        "X = train_data[columns[:-1]]\n",
        "y = train_data[columns[-1]]\n",
        "\n",
        "# Split into validation and training data\n",
        "from sklearn.model_selection import train_test_split\n",
        "train_X, test_X, train_y, test_y = train_test_split(X, y, random_state=1)\n",
        "\n",
        "# Specify Model Decision Tree Regressor\n",
        "iowa_model = DecisionTreeRegressor(random_state=1)\n",
        "iowa_model.fit(train_X, train_y)\n",
        "val_predictions = iowa_model.predict(test_X)\n",
        "val_mae = mean_absolute_error(val_predictions, test_y)\n",
        "print(\"Validation MAE when not specifying max_leaf_nodes: {:,.0f}\".format(val_mae))\n",
        "\n",
        "# Using best value for max_leaf_nodes\n",
        "iowa_model = DecisionTreeRegressor(max_leaf_nodes=100, random_state=1)\n",
        "iowa_model.fit(train_X, train_y)\n",
        "val_predictions = iowa_model.predict(test_X)\n",
        "val_mae = mean_absolute_error(val_predictions, test_y)\n",
        "print(\"Validation MAE for best value of max_leaf_nodes: {:,.0f}\".format(val_mae))\n",
        "\n",
        "# Define the RF model. Set random_state to 1\n",
        "rf_model = RandomForestRegressor(random_state=1)\n",
        "rf_model.fit(train_X, train_y)\n",
        "rf_val_predictions = rf_model.predict(test_X)\n",
        "rf_val_mae = mean_absolute_error(rf_val_predictions, test_y)\n",
        "print(\"Validation MAE for Random Forest Model: {:,.0f}\".format(rf_val_mae))\n",
        "\n",
        "# Define the xgboost model\n",
        "from xgboost import XGBRegressor\n",
        "xgb_model = XGBRegressor()\n",
        "# Add silent=True to avoid printing out updates with each cycle\n",
        "xgb_model.fit(train_X, train_y, verbose=False)\n",
        "xgb_predictions = xgb_model.predict(test_X)\n",
        "# print(\"Mean Absolute Error : \" + str(mean_absolute_error(xgb_predictions, test_y)))\n",
        "xgb_val_mae = mean_absolute_error(xgb_predictions, test_y)\n",
        "print(\"Validation MAE for XGBOOST Model: {:,.0f}\".format(xgb_val_mae))\n",
        "\n",
        "\n"
      ],
      "execution_count": 0,
      "outputs": [
        {
          "output_type": "stream",
          "text": [
            "Validation MAE when not specifying max_leaf_nodes: 41\n",
            "Validation MAE for best value of max_leaf_nodes: 40\n",
            "Validation MAE for Random Forest Model: 35\n",
            "Validation MAE for XGBOOST Model: 38\n",
            "WARNING:tensorflow:From /usr/local/lib/python3.6/dist-packages/tensorflow/python/keras/utils/losses_utils.py:170: to_float (from tensorflow.python.ops.math_ops) is deprecated and will be removed in a future version.\n",
            "Instructions for updating:\n",
            "Use tf.cast instead.\n"
          ],
          "name": "stdout"
        }
      ]
    },
    {
      "metadata": {
        "id": "F4hMTgfSv1Hj",
        "colab_type": "text"
      },
      "cell_type": "markdown",
      "source": [
        "# Using Tensorflow"
      ]
    },
    {
      "metadata": {
        "id": "nhJ8LEJxQRj5",
        "colab_type": "code",
        "colab": {}
      },
      "cell_type": "code",
      "source": [
        "# Define the tensorflow model\n",
        "from tensorflow import keras\n",
        "from tensorflow.keras import layers\n",
        "def build_model():\n",
        "  model =keras.Sequential([\n",
        "    layers.Dense(64, activation=tf.nn.relu, input_shape=[len(train_X.keys())]),\n",
        "    layers.Dense(64, activation=tf.nn.relu),\n",
        "    layers.Dense(1)\n",
        "  ])\n",
        "\n",
        "  optimizer = tf.keras.optimizers.RMSprop(0.001)\n",
        "\n",
        "  model.compile(loss='mean_squared_error',\n",
        "                optimizer=optimizer,\n",
        "                metrics=['mean_absolute_error', 'mean_squared_error'])\n",
        "  return model\n",
        "\n",
        "model = build_model()"
      ],
      "execution_count": 0,
      "outputs": []
    },
    {
      "metadata": {
        "id": "3pLXRut9Wf9E",
        "colab_type": "code",
        "outputId": "47f907bb-cf42-4553-b418-4110c63a1326",
        "colab": {
          "base_uri": "https://localhost:8080/",
          "height": 243
        }
      },
      "cell_type": "code",
      "source": [
        "model.summary()"
      ],
      "execution_count": 0,
      "outputs": [
        {
          "output_type": "stream",
          "text": [
            "_________________________________________________________________\n",
            "Layer (type)                 Output Shape              Param #   \n",
            "=================================================================\n",
            "dense_21 (Dense)             (None, 64)                576       \n",
            "_________________________________________________________________\n",
            "dense_22 (Dense)             (None, 64)                4160      \n",
            "_________________________________________________________________\n",
            "dense_23 (Dense)             (None, 1)                 65        \n",
            "=================================================================\n",
            "Total params: 4,801\n",
            "Trainable params: 4,801\n",
            "Non-trainable params: 0\n",
            "_________________________________________________________________\n"
          ],
          "name": "stdout"
        }
      ]
    },
    {
      "metadata": {
        "id": "CXibgFRVXLA7",
        "colab_type": "code",
        "outputId": "39a8823f-6b15-4d4a-db66-067b1935a8f6",
        "colab": {
          "base_uri": "https://localhost:8080/",
          "height": 201
        }
      },
      "cell_type": "code",
      "source": [
        "example_batch = train_X[:10]\n",
        "example_result = model.predict(example_batch)\n",
        "example_result"
      ],
      "execution_count": 0,
      "outputs": [
        {
          "output_type": "error",
          "ename": "NameError",
          "evalue": "ignored",
          "traceback": [
            "\u001b[0;31m---------------------------------------------------------------------------\u001b[0m",
            "\u001b[0;31mNameError\u001b[0m                                 Traceback (most recent call last)",
            "\u001b[0;32m<ipython-input-1-2c11ed6b2e84>\u001b[0m in \u001b[0;36m<module>\u001b[0;34m()\u001b[0m\n\u001b[0;32m----> 1\u001b[0;31m \u001b[0mexample_batch\u001b[0m \u001b[0;34m=\u001b[0m \u001b[0mtrain_X\u001b[0m\u001b[0;34m[\u001b[0m\u001b[0;34m:\u001b[0m\u001b[0;36m100\u001b[0m\u001b[0;34m]\u001b[0m\u001b[0;34m\u001b[0m\u001b[0;34m\u001b[0m\u001b[0m\n\u001b[0m\u001b[1;32m      2\u001b[0m \u001b[0mexample_result\u001b[0m \u001b[0;34m=\u001b[0m \u001b[0mmodel\u001b[0m\u001b[0;34m.\u001b[0m\u001b[0mpredict\u001b[0m\u001b[0;34m(\u001b[0m\u001b[0mexample_batch\u001b[0m\u001b[0;34m)\u001b[0m\u001b[0;34m\u001b[0m\u001b[0;34m\u001b[0m\u001b[0m\n\u001b[1;32m      3\u001b[0m \u001b[0mexample_result\u001b[0m\u001b[0;34m\u001b[0m\u001b[0;34m\u001b[0m\u001b[0m\n",
            "\u001b[0;31mNameError\u001b[0m: name 'train_X' is not defined"
          ]
        }
      ]
    },
    {
      "metadata": {
        "id": "t8GKRekmwP2W",
        "colab_type": "code",
        "colab": {}
      },
      "cell_type": "code",
      "source": [
        "# To be continued..."
      ],
      "execution_count": 0,
      "outputs": []
    }
  ]
}